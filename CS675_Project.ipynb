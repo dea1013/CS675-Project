{
  "cells": [
    {
      "cell_type": "markdown",
      "metadata": {
        "id": "view-in-github",
        "colab_type": "text"
      },
      "source": [
        "<a href=\"https://colab.research.google.com/github/dea1013/CS675-Project/blob/main/CS675_Project.ipynb\" target=\"_parent\"><img src=\"https://colab.research.google.com/assets/colab-badge.svg\" alt=\"Open In Colab\"/></a>"
      ]
    },
    {
      "cell_type": "markdown",
      "metadata": {
        "id": "AmIg7IHbC-_1"
      },
      "source": [
        "# Preprocessing"
      ]
    },
    {
      "cell_type": "markdown",
      "metadata": {
        "id": "RvOwm_WZUYZt"
      },
      "source": [
        "## Import modules"
      ]
    },
    {
      "cell_type": "code",
      "execution_count": null,
      "metadata": {
        "id": "7Bj_KeyjTggT"
      },
      "outputs": [],
      "source": [
        "import numpy as np\n",
        "import pandas as pd\n",
        "import json\n",
        "import matplotlib.pyplot as plt\n",
        "from sklearn.model_selection import train_test_split\n",
        "from sklearn.linear_model import LogisticRegression\n",
        "from sklearn.neural_network import MLPRegressor"
      ]
    },
    {
      "cell_type": "markdown",
      "metadata": {
        "id": "9PRoibS5UuRj"
      },
      "source": [
        "## Import data"
      ]
    },
    {
      "cell_type": "markdown",
      "metadata": {
        "id": "O8SHuSrDUwV4"
      },
      "source": [
        "#### Import KPMI data"
      ]
    },
    {
      "cell_type": "code",
      "execution_count": null,
      "metadata": {
        "colab": {
          "base_uri": "https://localhost:8080/"
        },
        "id": "HAiS8iiBUOTq",
        "outputId": "3dab5263-5bf2-4283-a888-1cef5fca204c"
      },
      "outputs": [
        {
          "output_type": "stream",
          "name": "stderr",
          "text": [
            "/usr/local/lib/python3.7/dist-packages/IPython/core/interactiveshell.py:2882: DtypeWarning: Columns (0) have mixed types.Specify dtype option on import or set low_memory=False.\n",
            "  exec(code_obj, self.user_global_ns, self.user_ns)\n"
          ]
        }
      ],
      "source": [
        "df = pd.read_csv(\"/content/drive/MyDrive/Spring 2022/\\\n",
        "Machine Learning/Project/data/kpmi_data.csv\")"
      ]
    },
    {
      "cell_type": "markdown",
      "metadata": {
        "id": "vEs1ziAWsHjY"
      },
      "source": [
        "#### Import Questions JSON"
      ]
    },
    {
      "cell_type": "code",
      "execution_count": null,
      "metadata": {
        "id": "h2PXCOgoUVpd"
      },
      "outputs": [],
      "source": [
        "with open('/content/drive/MyDrive/Spring 2022/Machine Learning/\\\n",
        "Project/data/questionnaire_schema.json') as json_file:\n",
        "  raw_qas = json.load(json_file)"
      ]
    },
    {
      "cell_type": "markdown",
      "metadata": {
        "id": "JAhJQwYV5rpn"
      },
      "source": [
        "## Variables/Functions for Later Use"
      ]
    },
    {
      "cell_type": "markdown",
      "metadata": {
        "id": "_eYF39Ya4HOL"
      },
      "source": [
        "#### Create Question/Answer Dictionary"
      ]
    },
    {
      "cell_type": "code",
      "execution_count": null,
      "metadata": {
        "colab": {
          "base_uri": "https://localhost:8080/"
        },
        "id": "COAkSYNaZzNr",
        "outputId": "ff446508-f312-4fdb-feb0-14e7b09928a8"
      },
      "outputs": [
        {
          "output_type": "execute_result",
          "data": {
            "text/plain": [
              "{'a': ['communicative', 'quite restrained and calm'], 'q': 'Usually you:'}"
            ]
          },
          "metadata": {},
          "execution_count": 4
        }
      ],
      "source": [
        "# create dictionary so that question/answer can be derived from a question number\n",
        "\n",
        "qas = {}\n",
        "for qa in raw_qas:\n",
        "  name = 'q' + str(qa['position'])\n",
        "  q = [dic for dic in qa['text'] if dic['lang'] == 'en'][0]['value']\n",
        "  a = [dic['text'] for dic in qa['answers']]\n",
        "  a = [dic[i] for dic in a for i in range(len(dic))]\n",
        "  a = [dic['value'] for dic in a if dic['lang'] == 'en']\n",
        "  qas[name] = {'q':q,'a':a}\n",
        "qas['q1']"
      ]
    },
    {
      "cell_type": "markdown",
      "metadata": {
        "id": "4td3R2FXAaye"
      },
      "source": [
        "#### Create new columns/features"
      ]
    },
    {
      "cell_type": "code",
      "execution_count": null,
      "metadata": {
        "colab": {
          "base_uri": "https://localhost:8080/"
        },
        "id": "Zdjo3LoA_O3u",
        "outputId": "6a57109a-66b2-4f11-a393-4cc2e7b58dc6"
      },
      "outputs": [
        {
          "output_type": "execute_result",
          "data": {
            "text/plain": [
              "['q1', 'q2', 'q3', 'q4', 'q5']"
            ]
          },
          "metadata": {},
          "execution_count": 5
        }
      ],
      "source": [
        "# create list of column names\n",
        "q_cols = [col for col in df.columns if col[0] == \"q\"]\n",
        "q_cols[:5]"
      ]
    },
    {
      "cell_type": "code",
      "execution_count": null,
      "metadata": {
        "colab": {
          "base_uri": "https://localhost:8080/",
          "height": 206
        },
        "id": "C7Pz3kE54QJk",
        "outputId": "f4ce1c03-f448-4371-ea7d-f52d60b9d70a"
      },
      "outputs": [
        {
          "output_type": "execute_result",
          "data": {
            "text/plain": [
              "   E/I  S/N  T/F  J/P psychotype\n",
              "0    0    1    1    1       ISTJ\n",
              "1    0    1    1    1       ISTJ\n",
              "2    1    0    1    1       ENTJ\n",
              "3    1    1    1    1       ESTJ\n",
              "4    1    0    0    1       ENFJ"
            ],
            "text/html": [
              "\n",
              "  <div id=\"df-6644bba0-c78f-4e18-92ac-9fd72530bcfc\">\n",
              "    <div class=\"colab-df-container\">\n",
              "      <div>\n",
              "<style scoped>\n",
              "    .dataframe tbody tr th:only-of-type {\n",
              "        vertical-align: middle;\n",
              "    }\n",
              "\n",
              "    .dataframe tbody tr th {\n",
              "        vertical-align: top;\n",
              "    }\n",
              "\n",
              "    .dataframe thead th {\n",
              "        text-align: right;\n",
              "    }\n",
              "</style>\n",
              "<table border=\"1\" class=\"dataframe\">\n",
              "  <thead>\n",
              "    <tr style=\"text-align: right;\">\n",
              "      <th></th>\n",
              "      <th>E/I</th>\n",
              "      <th>S/N</th>\n",
              "      <th>T/F</th>\n",
              "      <th>J/P</th>\n",
              "      <th>psychotype</th>\n",
              "    </tr>\n",
              "  </thead>\n",
              "  <tbody>\n",
              "    <tr>\n",
              "      <th>0</th>\n",
              "      <td>0</td>\n",
              "      <td>1</td>\n",
              "      <td>1</td>\n",
              "      <td>1</td>\n",
              "      <td>ISTJ</td>\n",
              "    </tr>\n",
              "    <tr>\n",
              "      <th>1</th>\n",
              "      <td>0</td>\n",
              "      <td>1</td>\n",
              "      <td>1</td>\n",
              "      <td>1</td>\n",
              "      <td>ISTJ</td>\n",
              "    </tr>\n",
              "    <tr>\n",
              "      <th>2</th>\n",
              "      <td>1</td>\n",
              "      <td>0</td>\n",
              "      <td>1</td>\n",
              "      <td>1</td>\n",
              "      <td>ENTJ</td>\n",
              "    </tr>\n",
              "    <tr>\n",
              "      <th>3</th>\n",
              "      <td>1</td>\n",
              "      <td>1</td>\n",
              "      <td>1</td>\n",
              "      <td>1</td>\n",
              "      <td>ESTJ</td>\n",
              "    </tr>\n",
              "    <tr>\n",
              "      <th>4</th>\n",
              "      <td>1</td>\n",
              "      <td>0</td>\n",
              "      <td>0</td>\n",
              "      <td>1</td>\n",
              "      <td>ENFJ</td>\n",
              "    </tr>\n",
              "  </tbody>\n",
              "</table>\n",
              "</div>\n",
              "      <button class=\"colab-df-convert\" onclick=\"convertToInteractive('df-6644bba0-c78f-4e18-92ac-9fd72530bcfc')\"\n",
              "              title=\"Convert this dataframe to an interactive table.\"\n",
              "              style=\"display:none;\">\n",
              "        \n",
              "  <svg xmlns=\"http://www.w3.org/2000/svg\" height=\"24px\"viewBox=\"0 0 24 24\"\n",
              "       width=\"24px\">\n",
              "    <path d=\"M0 0h24v24H0V0z\" fill=\"none\"/>\n",
              "    <path d=\"M18.56 5.44l.94 2.06.94-2.06 2.06-.94-2.06-.94-.94-2.06-.94 2.06-2.06.94zm-11 1L8.5 8.5l.94-2.06 2.06-.94-2.06-.94L8.5 2.5l-.94 2.06-2.06.94zm10 10l.94 2.06.94-2.06 2.06-.94-2.06-.94-.94-2.06-.94 2.06-2.06.94z\"/><path d=\"M17.41 7.96l-1.37-1.37c-.4-.4-.92-.59-1.43-.59-.52 0-1.04.2-1.43.59L10.3 9.45l-7.72 7.72c-.78.78-.78 2.05 0 2.83L4 21.41c.39.39.9.59 1.41.59.51 0 1.02-.2 1.41-.59l7.78-7.78 2.81-2.81c.8-.78.8-2.07 0-2.86zM5.41 20L4 18.59l7.72-7.72 1.47 1.35L5.41 20z\"/>\n",
              "  </svg>\n",
              "      </button>\n",
              "      \n",
              "  <style>\n",
              "    .colab-df-container {\n",
              "      display:flex;\n",
              "      flex-wrap:wrap;\n",
              "      gap: 12px;\n",
              "    }\n",
              "\n",
              "    .colab-df-convert {\n",
              "      background-color: #E8F0FE;\n",
              "      border: none;\n",
              "      border-radius: 50%;\n",
              "      cursor: pointer;\n",
              "      display: none;\n",
              "      fill: #1967D2;\n",
              "      height: 32px;\n",
              "      padding: 0 0 0 0;\n",
              "      width: 32px;\n",
              "    }\n",
              "\n",
              "    .colab-df-convert:hover {\n",
              "      background-color: #E2EBFA;\n",
              "      box-shadow: 0px 1px 2px rgba(60, 64, 67, 0.3), 0px 1px 3px 1px rgba(60, 64, 67, 0.15);\n",
              "      fill: #174EA6;\n",
              "    }\n",
              "\n",
              "    [theme=dark] .colab-df-convert {\n",
              "      background-color: #3B4455;\n",
              "      fill: #D2E3FC;\n",
              "    }\n",
              "\n",
              "    [theme=dark] .colab-df-convert:hover {\n",
              "      background-color: #434B5C;\n",
              "      box-shadow: 0px 1px 3px 1px rgba(0, 0, 0, 0.15);\n",
              "      filter: drop-shadow(0px 1px 2px rgba(0, 0, 0, 0.3));\n",
              "      fill: #FFFFFF;\n",
              "    }\n",
              "  </style>\n",
              "\n",
              "      <script>\n",
              "        const buttonEl =\n",
              "          document.querySelector('#df-6644bba0-c78f-4e18-92ac-9fd72530bcfc button.colab-df-convert');\n",
              "        buttonEl.style.display =\n",
              "          google.colab.kernel.accessAllowed ? 'block' : 'none';\n",
              "\n",
              "        async function convertToInteractive(key) {\n",
              "          const element = document.querySelector('#df-6644bba0-c78f-4e18-92ac-9fd72530bcfc');\n",
              "          const dataTable =\n",
              "            await google.colab.kernel.invokeFunction('convertToInteractive',\n",
              "                                                     [key], {});\n",
              "          if (!dataTable) return;\n",
              "\n",
              "          const docLinkHtml = 'Like what you see? Visit the ' +\n",
              "            '<a target=\"_blank\" href=https://colab.research.google.com/notebooks/data_table.ipynb>data table notebook</a>'\n",
              "            + ' to learn more about interactive tables.';\n",
              "          element.innerHTML = '';\n",
              "          dataTable['output_type'] = 'display_data';\n",
              "          await google.colab.output.renderOutput(dataTable, element);\n",
              "          const docLink = document.createElement('div');\n",
              "          docLink.innerHTML = docLinkHtml;\n",
              "          element.appendChild(docLink);\n",
              "        }\n",
              "      </script>\n",
              "    </div>\n",
              "  </div>\n",
              "  "
            ]
          },
          "metadata": {},
          "execution_count": 6
        }
      ],
      "source": [
        "# create binary columns for the scale values\n",
        "bin_cols = [\"E/I\",\"S/N\",\"T/F\",\"J/P\"]\n",
        "for i,col in enumerate(bin_cols):\n",
        "  df[col] = (df[\"psychotype\"].str[i] == col[0]).astype(int)\n",
        "df[bin_cols+[\"psychotype\"]].head()"
      ]
    },
    {
      "cell_type": "code",
      "execution_count": null,
      "metadata": {
        "colab": {
          "base_uri": "https://localhost:8080/",
          "height": 206
        },
        "id": "vfKtxU3Gd488",
        "outputId": "a908d21b-962e-4884-cecd-0fe40fafba46"
      },
      "outputs": [
        {
          "output_type": "execute_result",
          "data": {
            "text/plain": [
              "   E/I_weight  S/N_weight  T/F_weight  J/P_weight\n",
              "0    0.600000    0.361111    0.457143    0.485714\n",
              "1    0.171429    0.027778    0.342857    0.200000\n",
              "2    0.628571    0.111111    0.114286    0.142857\n",
              "3    0.514286    0.333333    0.057143    0.285714\n",
              "4    0.400000    0.027778    0.285714    0.800000"
            ],
            "text/html": [
              "\n",
              "  <div id=\"df-a2f4c338-e369-45a7-8168-fb29f83e3823\">\n",
              "    <div class=\"colab-df-container\">\n",
              "      <div>\n",
              "<style scoped>\n",
              "    .dataframe tbody tr th:only-of-type {\n",
              "        vertical-align: middle;\n",
              "    }\n",
              "\n",
              "    .dataframe tbody tr th {\n",
              "        vertical-align: top;\n",
              "    }\n",
              "\n",
              "    .dataframe thead th {\n",
              "        text-align: right;\n",
              "    }\n",
              "</style>\n",
              "<table border=\"1\" class=\"dataframe\">\n",
              "  <thead>\n",
              "    <tr style=\"text-align: right;\">\n",
              "      <th></th>\n",
              "      <th>E/I_weight</th>\n",
              "      <th>S/N_weight</th>\n",
              "      <th>T/F_weight</th>\n",
              "      <th>J/P_weight</th>\n",
              "    </tr>\n",
              "  </thead>\n",
              "  <tbody>\n",
              "    <tr>\n",
              "      <th>0</th>\n",
              "      <td>0.600000</td>\n",
              "      <td>0.361111</td>\n",
              "      <td>0.457143</td>\n",
              "      <td>0.485714</td>\n",
              "    </tr>\n",
              "    <tr>\n",
              "      <th>1</th>\n",
              "      <td>0.171429</td>\n",
              "      <td>0.027778</td>\n",
              "      <td>0.342857</td>\n",
              "      <td>0.200000</td>\n",
              "    </tr>\n",
              "    <tr>\n",
              "      <th>2</th>\n",
              "      <td>0.628571</td>\n",
              "      <td>0.111111</td>\n",
              "      <td>0.114286</td>\n",
              "      <td>0.142857</td>\n",
              "    </tr>\n",
              "    <tr>\n",
              "      <th>3</th>\n",
              "      <td>0.514286</td>\n",
              "      <td>0.333333</td>\n",
              "      <td>0.057143</td>\n",
              "      <td>0.285714</td>\n",
              "    </tr>\n",
              "    <tr>\n",
              "      <th>4</th>\n",
              "      <td>0.400000</td>\n",
              "      <td>0.027778</td>\n",
              "      <td>0.285714</td>\n",
              "      <td>0.800000</td>\n",
              "    </tr>\n",
              "  </tbody>\n",
              "</table>\n",
              "</div>\n",
              "      <button class=\"colab-df-convert\" onclick=\"convertToInteractive('df-a2f4c338-e369-45a7-8168-fb29f83e3823')\"\n",
              "              title=\"Convert this dataframe to an interactive table.\"\n",
              "              style=\"display:none;\">\n",
              "        \n",
              "  <svg xmlns=\"http://www.w3.org/2000/svg\" height=\"24px\"viewBox=\"0 0 24 24\"\n",
              "       width=\"24px\">\n",
              "    <path d=\"M0 0h24v24H0V0z\" fill=\"none\"/>\n",
              "    <path d=\"M18.56 5.44l.94 2.06.94-2.06 2.06-.94-2.06-.94-.94-2.06-.94 2.06-2.06.94zm-11 1L8.5 8.5l.94-2.06 2.06-.94-2.06-.94L8.5 2.5l-.94 2.06-2.06.94zm10 10l.94 2.06.94-2.06 2.06-.94-2.06-.94-.94-2.06-.94 2.06-2.06.94z\"/><path d=\"M17.41 7.96l-1.37-1.37c-.4-.4-.92-.59-1.43-.59-.52 0-1.04.2-1.43.59L10.3 9.45l-7.72 7.72c-.78.78-.78 2.05 0 2.83L4 21.41c.39.39.9.59 1.41.59.51 0 1.02-.2 1.41-.59l7.78-7.78 2.81-2.81c.8-.78.8-2.07 0-2.86zM5.41 20L4 18.59l7.72-7.72 1.47 1.35L5.41 20z\"/>\n",
              "  </svg>\n",
              "      </button>\n",
              "      \n",
              "  <style>\n",
              "    .colab-df-container {\n",
              "      display:flex;\n",
              "      flex-wrap:wrap;\n",
              "      gap: 12px;\n",
              "    }\n",
              "\n",
              "    .colab-df-convert {\n",
              "      background-color: #E8F0FE;\n",
              "      border: none;\n",
              "      border-radius: 50%;\n",
              "      cursor: pointer;\n",
              "      display: none;\n",
              "      fill: #1967D2;\n",
              "      height: 32px;\n",
              "      padding: 0 0 0 0;\n",
              "      width: 32px;\n",
              "    }\n",
              "\n",
              "    .colab-df-convert:hover {\n",
              "      background-color: #E2EBFA;\n",
              "      box-shadow: 0px 1px 2px rgba(60, 64, 67, 0.3), 0px 1px 3px 1px rgba(60, 64, 67, 0.15);\n",
              "      fill: #174EA6;\n",
              "    }\n",
              "\n",
              "    [theme=dark] .colab-df-convert {\n",
              "      background-color: #3B4455;\n",
              "      fill: #D2E3FC;\n",
              "    }\n",
              "\n",
              "    [theme=dark] .colab-df-convert:hover {\n",
              "      background-color: #434B5C;\n",
              "      box-shadow: 0px 1px 3px 1px rgba(0, 0, 0, 0.15);\n",
              "      filter: drop-shadow(0px 1px 2px rgba(0, 0, 0, 0.3));\n",
              "      fill: #FFFFFF;\n",
              "    }\n",
              "  </style>\n",
              "\n",
              "      <script>\n",
              "        const buttonEl =\n",
              "          document.querySelector('#df-a2f4c338-e369-45a7-8168-fb29f83e3823 button.colab-df-convert');\n",
              "        buttonEl.style.display =\n",
              "          google.colab.kernel.accessAllowed ? 'block' : 'none';\n",
              "\n",
              "        async function convertToInteractive(key) {\n",
              "          const element = document.querySelector('#df-a2f4c338-e369-45a7-8168-fb29f83e3823');\n",
              "          const dataTable =\n",
              "            await google.colab.kernel.invokeFunction('convertToInteractive',\n",
              "                                                     [key], {});\n",
              "          if (!dataTable) return;\n",
              "\n",
              "          const docLinkHtml = 'Like what you see? Visit the ' +\n",
              "            '<a target=\"_blank\" href=https://colab.research.google.com/notebooks/data_table.ipynb>data table notebook</a>'\n",
              "            + ' to learn more about interactive tables.';\n",
              "          element.innerHTML = '';\n",
              "          dataTable['output_type'] = 'display_data';\n",
              "          await google.colab.output.renderOutput(dataTable, element);\n",
              "          const docLink = document.createElement('div');\n",
              "          docLink.innerHTML = docLinkHtml;\n",
              "          element.appendChild(docLink);\n",
              "        }\n",
              "      </script>\n",
              "    </div>\n",
              "  </div>\n",
              "  "
            ]
          },
          "metadata": {},
          "execution_count": 7
        }
      ],
      "source": [
        "# weight columns\n",
        "scale_cols = [col for col in df.columns if \"scale\" in col]\n",
        "weight_cols = [col+\"_weight\" for col in bin_cols]\n",
        "for i,col in enumerate(weight_cols):\n",
        "  df[col] = (df[scale_cols[i*2]] - df[scale_cols[(i*2)+1]]).abs()\n",
        "  df[col] = (df[col] - df[col].min())/(df[col].max() - df[col].min())\n",
        "df[weight_cols].head()"
      ]
    },
    {
      "cell_type": "markdown",
      "metadata": {
        "id": "3DMOaJrbBf6h"
      },
      "source": [
        "#### Create functions"
      ]
    },
    {
      "cell_type": "code",
      "execution_count": null,
      "metadata": {
        "id": "Q-Zb7F4Oxmgm"
      },
      "outputs": [],
      "source": [
        "def to_type(x):\n",
        "  return (\"E\" if x[0] else \"I\") +\\\n",
        "  (\"S\" if x[1] else \"N\") +\\\n",
        "  (\"T\" if x[2] else \"F\") +\\\n",
        "  (\"J\" if x[3] else \"P\")"
      ]
    },
    {
      "cell_type": "code",
      "execution_count": null,
      "metadata": {
        "id": "PkIKBu5gB6o7"
      },
      "outputs": [],
      "source": [
        "def eval(pred,actual):\n",
        "  correct = np.sum(np.all(pred == actual,axis=1))\n",
        "  total = len(pred)\n",
        "  return {\"Correct\": correct,\n",
        "          \"Incorrect\": total - correct,\n",
        "          \"Total\": total,\n",
        "          \"Accuracy\": correct/total}"
      ]
    },
    {
      "cell_type": "code",
      "execution_count": null,
      "metadata": {
        "id": "IiGyQkI9JHX2"
      },
      "outputs": [],
      "source": [
        "def predict(test,models): return np.array([m.predict(test) for m in models]).T"
      ]
    },
    {
      "cell_type": "code",
      "execution_count": null,
      "metadata": {
        "id": "dU0NCGNdZAjz"
      },
      "outputs": [],
      "source": [
        "def std(x): return (x - x.min())/(x.max() - x.min())"
      ]
    },
    {
      "cell_type": "code",
      "execution_count": null,
      "metadata": {
        "colab": {
          "base_uri": "https://localhost:8080/"
        },
        "id": "CZcbkC6Vietk",
        "outputId": "122b4289-6a6d-4736-bd2f-bbf86e6446bb"
      },
      "outputs": [
        {
          "output_type": "stream",
          "name": "stdout",
          "text": [
            "q5. Being in a company you usually:\n",
            " (0) join the conversation\n",
            " (1) talk with each separately\n"
          ]
        }
      ],
      "source": [
        "def print_qs(qnums):\n",
        "  for qnum in qnums:\n",
        "    qa = qas[qnum]\n",
        "    print(f\"{qnum}. {qa['q']}\")\n",
        "    print(f\" (0) {qa['a'][0]}\")\n",
        "    print(f\" (1) {qa['a'][1]}\")\n",
        "print_qs(['q5'])"
      ]
    },
    {
      "cell_type": "markdown",
      "metadata": {
        "id": "LS-YnGvo7jW2"
      },
      "source": [
        "# Task 1: Learning the Questionnaire Perfectly"
      ]
    },
    {
      "cell_type": "markdown",
      "metadata": {
        "id": "FtqVrHGyNp-j"
      },
      "source": [
        "## Test-Train Split"
      ]
    },
    {
      "cell_type": "code",
      "execution_count": null,
      "metadata": {
        "id": "l8HZXASaNk-L"
      },
      "outputs": [],
      "source": [
        "# train-test split\n",
        "X = df[q_cols]\n",
        "y = df[bin_cols]\n",
        "X_train, X_test, y_train, y_test = train_test_split(\n",
        "        X, y, test_size=0.3, random_state=1, stratify=y)"
      ]
    },
    {
      "cell_type": "markdown",
      "metadata": {
        "id": "QDAXVyjwr7CH"
      },
      "source": [
        "## Training"
      ]
    },
    {
      "cell_type": "code",
      "execution_count": null,
      "metadata": {
        "id": "LxdUUvM-W-mX"
      },
      "outputs": [],
      "source": [
        "def train_lrs(X_train,y_train):\n",
        "  lrs = [] # logistic regression models\n",
        "  for col in bin_cols:\n",
        "      y_train2 = y_train[col]\n",
        "      lr = LogisticRegression(C=100,\n",
        "                              max_iter=500,\n",
        "                              random_state=1,\n",
        "                              solver='lbfgs')\n",
        "      lr.fit(X_train, y_train2)\n",
        "      lrs.append(lr)\n",
        "  return lrs\n",
        "perf_lrs = train_lrs(X_train,y_train)"
      ]
    },
    {
      "cell_type": "markdown",
      "metadata": {
        "id": "WX109mkhQUkl"
      },
      "source": [
        "## Evaluation"
      ]
    },
    {
      "cell_type": "code",
      "execution_count": null,
      "metadata": {
        "colab": {
          "base_uri": "https://localhost:8080/"
        },
        "id": "_cnorp_IF-Ay",
        "outputId": "c8fa25c8-e4b7-48b3-94ef-251ac4c31ea0"
      },
      "outputs": [
        {
          "output_type": "execute_result",
          "data": {
            "text/plain": [
              "{'Accuracy': 1.0, 'Correct': 6554, 'Incorrect': 0, 'Total': 6554}"
            ]
          },
          "metadata": {},
          "execution_count": 15
        }
      ],
      "source": [
        "# testing accuracy\n",
        "eval(predict(X_test,perf_lrs),y_test)"
      ]
    },
    {
      "cell_type": "code",
      "execution_count": null,
      "metadata": {
        "id": "mvOAQxZ5KJ7H"
      },
      "outputs": [],
      "source": [
        "avg_abs_coefs = np.mean([np.abs(lr.coef_[0]) for lr in perf_lrs],axis=0)"
      ]
    },
    {
      "cell_type": "markdown",
      "metadata": {
        "id": "h8k7WeSyLq53"
      },
      "source": [
        "# Task 2: Creating a Reduced Questionnaire"
      ]
    },
    {
      "cell_type": "code",
      "execution_count": null,
      "metadata": {
        "id": "oJB9PqRrqMLx"
      },
      "outputs": [],
      "source": [
        "# number of questions to be removed\n",
        "N = 10"
      ]
    },
    {
      "cell_type": "markdown",
      "metadata": {
        "id": "IHNFltGBEdQY"
      },
      "source": [
        "## Using the Logistic Regression Model Coefficients"
      ]
    },
    {
      "cell_type": "markdown",
      "metadata": {
        "id": "XGK3HmLeLeM-"
      },
      "source": [
        "### Attribute Selection"
      ]
    },
    {
      "cell_type": "code",
      "execution_count": null,
      "metadata": {
        "id": "luVgkOJQFVrJ"
      },
      "outputs": [],
      "source": [
        "avg_abs_coefs_std = std(avg_abs_coefs)\n",
        "results_df = pd.DataFrame({\"Q\": q_cols,\n",
        "                           \"Avg Abs Coeff\": avg_abs_coefs,\n",
        "                           \"Avg Abs Coeff Std\": avg_abs_coefs_std})"
      ]
    },
    {
      "cell_type": "code",
      "execution_count": null,
      "metadata": {
        "colab": {
          "base_uri": "https://localhost:8080/",
          "height": 363
        },
        "id": "jUaSS0M4G6kV",
        "outputId": "d02d1796-2f57-4778-df94-d32020f2c3cb"
      },
      "outputs": [
        {
          "output_type": "execute_result",
          "data": {
            "text/plain": [
              "        Q  Avg Abs Coeff  Avg Abs Coeff Std\n",
              "115  q116       1.599984           0.000000\n",
              "127  q128       1.601402           0.000258\n",
              "131  q132       1.604713           0.000861\n",
              "91    q92       1.620894           0.003807\n",
              "119  q120       1.622168           0.004039\n",
              "114  q115       1.631863           0.005804\n",
              "107  q108       1.636557           0.006659\n",
              "135  q136       1.637995           0.006921\n",
              "95    q96       1.638906           0.007086\n",
              "86    q87       1.648988           0.008922"
            ],
            "text/html": [
              "\n",
              "  <div id=\"df-632d9eb6-b37d-4103-9d8f-8b4ee783746e\">\n",
              "    <div class=\"colab-df-container\">\n",
              "      <div>\n",
              "<style scoped>\n",
              "    .dataframe tbody tr th:only-of-type {\n",
              "        vertical-align: middle;\n",
              "    }\n",
              "\n",
              "    .dataframe tbody tr th {\n",
              "        vertical-align: top;\n",
              "    }\n",
              "\n",
              "    .dataframe thead th {\n",
              "        text-align: right;\n",
              "    }\n",
              "</style>\n",
              "<table border=\"1\" class=\"dataframe\">\n",
              "  <thead>\n",
              "    <tr style=\"text-align: right;\">\n",
              "      <th></th>\n",
              "      <th>Q</th>\n",
              "      <th>Avg Abs Coeff</th>\n",
              "      <th>Avg Abs Coeff Std</th>\n",
              "    </tr>\n",
              "  </thead>\n",
              "  <tbody>\n",
              "    <tr>\n",
              "      <th>115</th>\n",
              "      <td>q116</td>\n",
              "      <td>1.599984</td>\n",
              "      <td>0.000000</td>\n",
              "    </tr>\n",
              "    <tr>\n",
              "      <th>127</th>\n",
              "      <td>q128</td>\n",
              "      <td>1.601402</td>\n",
              "      <td>0.000258</td>\n",
              "    </tr>\n",
              "    <tr>\n",
              "      <th>131</th>\n",
              "      <td>q132</td>\n",
              "      <td>1.604713</td>\n",
              "      <td>0.000861</td>\n",
              "    </tr>\n",
              "    <tr>\n",
              "      <th>91</th>\n",
              "      <td>q92</td>\n",
              "      <td>1.620894</td>\n",
              "      <td>0.003807</td>\n",
              "    </tr>\n",
              "    <tr>\n",
              "      <th>119</th>\n",
              "      <td>q120</td>\n",
              "      <td>1.622168</td>\n",
              "      <td>0.004039</td>\n",
              "    </tr>\n",
              "    <tr>\n",
              "      <th>114</th>\n",
              "      <td>q115</td>\n",
              "      <td>1.631863</td>\n",
              "      <td>0.005804</td>\n",
              "    </tr>\n",
              "    <tr>\n",
              "      <th>107</th>\n",
              "      <td>q108</td>\n",
              "      <td>1.636557</td>\n",
              "      <td>0.006659</td>\n",
              "    </tr>\n",
              "    <tr>\n",
              "      <th>135</th>\n",
              "      <td>q136</td>\n",
              "      <td>1.637995</td>\n",
              "      <td>0.006921</td>\n",
              "    </tr>\n",
              "    <tr>\n",
              "      <th>95</th>\n",
              "      <td>q96</td>\n",
              "      <td>1.638906</td>\n",
              "      <td>0.007086</td>\n",
              "    </tr>\n",
              "    <tr>\n",
              "      <th>86</th>\n",
              "      <td>q87</td>\n",
              "      <td>1.648988</td>\n",
              "      <td>0.008922</td>\n",
              "    </tr>\n",
              "  </tbody>\n",
              "</table>\n",
              "</div>\n",
              "      <button class=\"colab-df-convert\" onclick=\"convertToInteractive('df-632d9eb6-b37d-4103-9d8f-8b4ee783746e')\"\n",
              "              title=\"Convert this dataframe to an interactive table.\"\n",
              "              style=\"display:none;\">\n",
              "        \n",
              "  <svg xmlns=\"http://www.w3.org/2000/svg\" height=\"24px\"viewBox=\"0 0 24 24\"\n",
              "       width=\"24px\">\n",
              "    <path d=\"M0 0h24v24H0V0z\" fill=\"none\"/>\n",
              "    <path d=\"M18.56 5.44l.94 2.06.94-2.06 2.06-.94-2.06-.94-.94-2.06-.94 2.06-2.06.94zm-11 1L8.5 8.5l.94-2.06 2.06-.94-2.06-.94L8.5 2.5l-.94 2.06-2.06.94zm10 10l.94 2.06.94-2.06 2.06-.94-2.06-.94-.94-2.06-.94 2.06-2.06.94z\"/><path d=\"M17.41 7.96l-1.37-1.37c-.4-.4-.92-.59-1.43-.59-.52 0-1.04.2-1.43.59L10.3 9.45l-7.72 7.72c-.78.78-.78 2.05 0 2.83L4 21.41c.39.39.9.59 1.41.59.51 0 1.02-.2 1.41-.59l7.78-7.78 2.81-2.81c.8-.78.8-2.07 0-2.86zM5.41 20L4 18.59l7.72-7.72 1.47 1.35L5.41 20z\"/>\n",
              "  </svg>\n",
              "      </button>\n",
              "      \n",
              "  <style>\n",
              "    .colab-df-container {\n",
              "      display:flex;\n",
              "      flex-wrap:wrap;\n",
              "      gap: 12px;\n",
              "    }\n",
              "\n",
              "    .colab-df-convert {\n",
              "      background-color: #E8F0FE;\n",
              "      border: none;\n",
              "      border-radius: 50%;\n",
              "      cursor: pointer;\n",
              "      display: none;\n",
              "      fill: #1967D2;\n",
              "      height: 32px;\n",
              "      padding: 0 0 0 0;\n",
              "      width: 32px;\n",
              "    }\n",
              "\n",
              "    .colab-df-convert:hover {\n",
              "      background-color: #E2EBFA;\n",
              "      box-shadow: 0px 1px 2px rgba(60, 64, 67, 0.3), 0px 1px 3px 1px rgba(60, 64, 67, 0.15);\n",
              "      fill: #174EA6;\n",
              "    }\n",
              "\n",
              "    [theme=dark] .colab-df-convert {\n",
              "      background-color: #3B4455;\n",
              "      fill: #D2E3FC;\n",
              "    }\n",
              "\n",
              "    [theme=dark] .colab-df-convert:hover {\n",
              "      background-color: #434B5C;\n",
              "      box-shadow: 0px 1px 3px 1px rgba(0, 0, 0, 0.15);\n",
              "      filter: drop-shadow(0px 1px 2px rgba(0, 0, 0, 0.3));\n",
              "      fill: #FFFFFF;\n",
              "    }\n",
              "  </style>\n",
              "\n",
              "      <script>\n",
              "        const buttonEl =\n",
              "          document.querySelector('#df-632d9eb6-b37d-4103-9d8f-8b4ee783746e button.colab-df-convert');\n",
              "        buttonEl.style.display =\n",
              "          google.colab.kernel.accessAllowed ? 'block' : 'none';\n",
              "\n",
              "        async function convertToInteractive(key) {\n",
              "          const element = document.querySelector('#df-632d9eb6-b37d-4103-9d8f-8b4ee783746e');\n",
              "          const dataTable =\n",
              "            await google.colab.kernel.invokeFunction('convertToInteractive',\n",
              "                                                     [key], {});\n",
              "          if (!dataTable) return;\n",
              "\n",
              "          const docLinkHtml = 'Like what you see? Visit the ' +\n",
              "            '<a target=\"_blank\" href=https://colab.research.google.com/notebooks/data_table.ipynb>data table notebook</a>'\n",
              "            + ' to learn more about interactive tables.';\n",
              "          element.innerHTML = '';\n",
              "          dataTable['output_type'] = 'display_data';\n",
              "          await google.colab.output.renderOutput(dataTable, element);\n",
              "          const docLink = document.createElement('div');\n",
              "          docLink.innerHTML = docLinkHtml;\n",
              "          element.appendChild(docLink);\n",
              "        }\n",
              "      </script>\n",
              "    </div>\n",
              "  </div>\n",
              "  "
            ]
          },
          "metadata": {},
          "execution_count": 19
        }
      ],
      "source": [
        "# top 10 least important features\n",
        "aac_df = results_df.sort_values(by=\"Avg Abs Coeff Std\").head(N)\n",
        "aac_df"
      ]
    },
    {
      "cell_type": "markdown",
      "metadata": {
        "id": "V10WMqZwFPkb"
      },
      "source": [
        "### Test-Train Split"
      ]
    },
    {
      "cell_type": "code",
      "execution_count": null,
      "metadata": {
        "id": "vZg9ySajFPAw"
      },
      "outputs": [],
      "source": [
        "# train-test split\n",
        "X = df[q_cols]\n",
        "X = X.drop(aac_df['Q'],axis=1)\n",
        "y = df[bin_cols]\n",
        "X_train, X_test, y_train, y_test = train_test_split(\n",
        "        X, y, test_size=0.3, random_state=1, stratify=y)"
      ]
    },
    {
      "cell_type": "markdown",
      "metadata": {
        "id": "ZzzfkhrCJGKa"
      },
      "source": [
        "### Training"
      ]
    },
    {
      "cell_type": "code",
      "execution_count": null,
      "metadata": {
        "id": "zrCFmriCJDf7"
      },
      "outputs": [],
      "source": [
        "lrs = train_lrs(X_train,y_train)"
      ]
    },
    {
      "cell_type": "markdown",
      "metadata": {
        "id": "elNwO8KJJIy6"
      },
      "source": [
        "### Evaluation"
      ]
    },
    {
      "cell_type": "code",
      "execution_count": null,
      "metadata": {
        "colab": {
          "base_uri": "https://localhost:8080/"
        },
        "id": "pMO5AsZvJLdo",
        "outputId": "c4de770f-5444-4a37-b784-7d5210bb9ad0"
      },
      "outputs": [
        {
          "output_type": "execute_result",
          "data": {
            "text/plain": [
              "{'Accuracy': 0.9627708269758926,\n",
              " 'Correct': 6310,\n",
              " 'Incorrect': 244,\n",
              " 'Total': 6554}"
            ]
          },
          "metadata": {},
          "execution_count": 22
        }
      ],
      "source": [
        "# testing accuracy\n",
        "eval(predict(X_test,lrs),y_test)"
      ]
    },
    {
      "cell_type": "code",
      "source": [
        "# seeing where mistakes are made\n",
        "X = df[q_cols]\n",
        "X = X.drop(aac_df['Q'].head(1),axis=1)\n",
        "y = df[bin_cols]\n",
        "X_train, X_test, y_train, y_test = train_test_split(\n",
        "        X, y, test_size=0.3, random_state=1, stratify=y)\n",
        "lrs = train_lrs(X_train,y_train)\n",
        "comp_df = pd.concat([pd.Series(np.apply_along_axis(to_type,1,predict(X_test,lrs))),\n",
        "                     df.iloc[X_test.index][scale_cols+['psychotype']].reset_index(drop=True)],axis=1)\n",
        "comp_df[comp_df[0] != comp_df['psychotype']][scale_cols+['psychotype']].head()"
      ],
      "metadata": {
        "colab": {
          "base_uri": "https://localhost:8080/",
          "height": 250
        },
        "id": "ISqXCtjINJnz",
        "outputId": "fad753b3-662f-4fbf-876e-0c41631275df"
      },
      "execution_count": null,
      "outputs": [
        {
          "output_type": "execute_result",
          "data": {
            "text/plain": [
              "     scale_e  scale_i  scale_s  scale_n  scale_t  scale_f  scale_j  scale_p  \\\n",
              "217       12       23        9       22       18       16       16       16   \n",
              "317       18       20       19       16       19       16       17       17   \n",
              "330       24       13       17       14       12       25       17       18   \n",
              "341       22       11       18       14       24       12       16       17   \n",
              "549       19       17       16       23       12       21       20       20   \n",
              "\n",
              "    psychotype  \n",
              "217       INTJ  \n",
              "317       ISTJ  \n",
              "330       ESFP  \n",
              "341       ESTP  \n",
              "549       ENFJ  "
            ],
            "text/html": [
              "\n",
              "  <div id=\"df-16712ce5-8c2e-426f-8e8d-cb6ee0c28ebc\">\n",
              "    <div class=\"colab-df-container\">\n",
              "      <div>\n",
              "<style scoped>\n",
              "    .dataframe tbody tr th:only-of-type {\n",
              "        vertical-align: middle;\n",
              "    }\n",
              "\n",
              "    .dataframe tbody tr th {\n",
              "        vertical-align: top;\n",
              "    }\n",
              "\n",
              "    .dataframe thead th {\n",
              "        text-align: right;\n",
              "    }\n",
              "</style>\n",
              "<table border=\"1\" class=\"dataframe\">\n",
              "  <thead>\n",
              "    <tr style=\"text-align: right;\">\n",
              "      <th></th>\n",
              "      <th>scale_e</th>\n",
              "      <th>scale_i</th>\n",
              "      <th>scale_s</th>\n",
              "      <th>scale_n</th>\n",
              "      <th>scale_t</th>\n",
              "      <th>scale_f</th>\n",
              "      <th>scale_j</th>\n",
              "      <th>scale_p</th>\n",
              "      <th>psychotype</th>\n",
              "    </tr>\n",
              "  </thead>\n",
              "  <tbody>\n",
              "    <tr>\n",
              "      <th>217</th>\n",
              "      <td>12</td>\n",
              "      <td>23</td>\n",
              "      <td>9</td>\n",
              "      <td>22</td>\n",
              "      <td>18</td>\n",
              "      <td>16</td>\n",
              "      <td>16</td>\n",
              "      <td>16</td>\n",
              "      <td>INTJ</td>\n",
              "    </tr>\n",
              "    <tr>\n",
              "      <th>317</th>\n",
              "      <td>18</td>\n",
              "      <td>20</td>\n",
              "      <td>19</td>\n",
              "      <td>16</td>\n",
              "      <td>19</td>\n",
              "      <td>16</td>\n",
              "      <td>17</td>\n",
              "      <td>17</td>\n",
              "      <td>ISTJ</td>\n",
              "    </tr>\n",
              "    <tr>\n",
              "      <th>330</th>\n",
              "      <td>24</td>\n",
              "      <td>13</td>\n",
              "      <td>17</td>\n",
              "      <td>14</td>\n",
              "      <td>12</td>\n",
              "      <td>25</td>\n",
              "      <td>17</td>\n",
              "      <td>18</td>\n",
              "      <td>ESFP</td>\n",
              "    </tr>\n",
              "    <tr>\n",
              "      <th>341</th>\n",
              "      <td>22</td>\n",
              "      <td>11</td>\n",
              "      <td>18</td>\n",
              "      <td>14</td>\n",
              "      <td>24</td>\n",
              "      <td>12</td>\n",
              "      <td>16</td>\n",
              "      <td>17</td>\n",
              "      <td>ESTP</td>\n",
              "    </tr>\n",
              "    <tr>\n",
              "      <th>549</th>\n",
              "      <td>19</td>\n",
              "      <td>17</td>\n",
              "      <td>16</td>\n",
              "      <td>23</td>\n",
              "      <td>12</td>\n",
              "      <td>21</td>\n",
              "      <td>20</td>\n",
              "      <td>20</td>\n",
              "      <td>ENFJ</td>\n",
              "    </tr>\n",
              "  </tbody>\n",
              "</table>\n",
              "</div>\n",
              "      <button class=\"colab-df-convert\" onclick=\"convertToInteractive('df-16712ce5-8c2e-426f-8e8d-cb6ee0c28ebc')\"\n",
              "              title=\"Convert this dataframe to an interactive table.\"\n",
              "              style=\"display:none;\">\n",
              "        \n",
              "  <svg xmlns=\"http://www.w3.org/2000/svg\" height=\"24px\"viewBox=\"0 0 24 24\"\n",
              "       width=\"24px\">\n",
              "    <path d=\"M0 0h24v24H0V0z\" fill=\"none\"/>\n",
              "    <path d=\"M18.56 5.44l.94 2.06.94-2.06 2.06-.94-2.06-.94-.94-2.06-.94 2.06-2.06.94zm-11 1L8.5 8.5l.94-2.06 2.06-.94-2.06-.94L8.5 2.5l-.94 2.06-2.06.94zm10 10l.94 2.06.94-2.06 2.06-.94-2.06-.94-.94-2.06-.94 2.06-2.06.94z\"/><path d=\"M17.41 7.96l-1.37-1.37c-.4-.4-.92-.59-1.43-.59-.52 0-1.04.2-1.43.59L10.3 9.45l-7.72 7.72c-.78.78-.78 2.05 0 2.83L4 21.41c.39.39.9.59 1.41.59.51 0 1.02-.2 1.41-.59l7.78-7.78 2.81-2.81c.8-.78.8-2.07 0-2.86zM5.41 20L4 18.59l7.72-7.72 1.47 1.35L5.41 20z\"/>\n",
              "  </svg>\n",
              "      </button>\n",
              "      \n",
              "  <style>\n",
              "    .colab-df-container {\n",
              "      display:flex;\n",
              "      flex-wrap:wrap;\n",
              "      gap: 12px;\n",
              "    }\n",
              "\n",
              "    .colab-df-convert {\n",
              "      background-color: #E8F0FE;\n",
              "      border: none;\n",
              "      border-radius: 50%;\n",
              "      cursor: pointer;\n",
              "      display: none;\n",
              "      fill: #1967D2;\n",
              "      height: 32px;\n",
              "      padding: 0 0 0 0;\n",
              "      width: 32px;\n",
              "    }\n",
              "\n",
              "    .colab-df-convert:hover {\n",
              "      background-color: #E2EBFA;\n",
              "      box-shadow: 0px 1px 2px rgba(60, 64, 67, 0.3), 0px 1px 3px 1px rgba(60, 64, 67, 0.15);\n",
              "      fill: #174EA6;\n",
              "    }\n",
              "\n",
              "    [theme=dark] .colab-df-convert {\n",
              "      background-color: #3B4455;\n",
              "      fill: #D2E3FC;\n",
              "    }\n",
              "\n",
              "    [theme=dark] .colab-df-convert:hover {\n",
              "      background-color: #434B5C;\n",
              "      box-shadow: 0px 1px 3px 1px rgba(0, 0, 0, 0.15);\n",
              "      filter: drop-shadow(0px 1px 2px rgba(0, 0, 0, 0.3));\n",
              "      fill: #FFFFFF;\n",
              "    }\n",
              "  </style>\n",
              "\n",
              "      <script>\n",
              "        const buttonEl =\n",
              "          document.querySelector('#df-16712ce5-8c2e-426f-8e8d-cb6ee0c28ebc button.colab-df-convert');\n",
              "        buttonEl.style.display =\n",
              "          google.colab.kernel.accessAllowed ? 'block' : 'none';\n",
              "\n",
              "        async function convertToInteractive(key) {\n",
              "          const element = document.querySelector('#df-16712ce5-8c2e-426f-8e8d-cb6ee0c28ebc');\n",
              "          const dataTable =\n",
              "            await google.colab.kernel.invokeFunction('convertToInteractive',\n",
              "                                                     [key], {});\n",
              "          if (!dataTable) return;\n",
              "\n",
              "          const docLinkHtml = 'Like what you see? Visit the ' +\n",
              "            '<a target=\"_blank\" href=https://colab.research.google.com/notebooks/data_table.ipynb>data table notebook</a>'\n",
              "            + ' to learn more about interactive tables.';\n",
              "          element.innerHTML = '';\n",
              "          dataTable['output_type'] = 'display_data';\n",
              "          await google.colab.output.renderOutput(dataTable, element);\n",
              "          const docLink = document.createElement('div');\n",
              "          docLink.innerHTML = docLinkHtml;\n",
              "          element.appendChild(docLink);\n",
              "        }\n",
              "      </script>\n",
              "    </div>\n",
              "  </div>\n",
              "  "
            ]
          },
          "metadata": {},
          "execution_count": 23
        }
      ]
    },
    {
      "cell_type": "markdown",
      "metadata": {
        "id": "VfnAyg0QNNZk"
      },
      "source": [
        "## Using \"Partial\" Greedy Attribute Selection"
      ]
    },
    {
      "cell_type": "markdown",
      "metadata": {
        "id": "yG-jbs-ALhsV"
      },
      "source": [
        "### Attribute Selection"
      ]
    },
    {
      "cell_type": "code",
      "execution_count": null,
      "metadata": {
        "id": "eOYJyeh2lt2c"
      },
      "outputs": [],
      "source": [
        "X = df[q_cols]\n",
        "y = df[bin_cols]\n",
        "X_train, X_test, y_train, y_test = train_test_split(\n",
        "        X, y, test_size=0.3, random_state=1, stratify=y)\n",
        "train_ix = X_train.sample(frac=1,random_state=1).index\n",
        "test_ix = X_test.sample(frac=1,random_state=1).index"
      ]
    },
    {
      "cell_type": "code",
      "execution_count": null,
      "metadata": {
        "id": "onKPnDGdPaiA"
      },
      "outputs": [],
      "source": [
        "new_accs = []\n",
        "for i,q in enumerate(q_cols):\n",
        "  X_train2 = X_train.copy().drop(q,axis=1)\n",
        "  X_test2 = X_test.copy().drop(q,axis=1)\n",
        "  lrs = train_lrs(X_train2,y_train)\n",
        "  new_accs.append(eval(predict(X_test2,lrs),y_test)['Accuracy'])"
      ]
    },
    {
      "cell_type": "code",
      "execution_count": null,
      "metadata": {
        "id": "_lpFYbsUxa5i"
      },
      "outputs": [],
      "source": [
        "results_df['Drop Accuracy'] = new_accs\n",
        "results_df['Drop Accuracy Std'] = 1 - std(results_df['Drop Accuracy'])"
      ]
    },
    {
      "cell_type": "code",
      "execution_count": null,
      "metadata": {
        "colab": {
          "base_uri": "https://localhost:8080/",
          "height": 363
        },
        "id": "IY-yEJ2Xb5os",
        "outputId": "d30778c4-e7ee-42f2-e02b-00f4268ea8a4"
      },
      "outputs": [
        {
          "output_type": "execute_result",
          "data": {
            "text/plain": [
              "        Q  Drop Accuracy  Drop Accuracy Std\n",
              "112  q113       0.997101           0.000000\n",
              "113  q114       0.996033           0.023256\n",
              "98    q99       0.994660           0.053156\n",
              "74    q75       0.993897           0.069767\n",
              "99   q100       0.993287           0.083056\n",
              "97    q98       0.993287           0.083056\n",
              "95    q96       0.993287           0.083056\n",
              "107  q108       0.993134           0.086379\n",
              "63    q64       0.992829           0.093023\n",
              "126  q127       0.992676           0.096346"
            ],
            "text/html": [
              "\n",
              "  <div id=\"df-0ce4f276-80ec-4cb6-895c-0fd79dfd9474\">\n",
              "    <div class=\"colab-df-container\">\n",
              "      <div>\n",
              "<style scoped>\n",
              "    .dataframe tbody tr th:only-of-type {\n",
              "        vertical-align: middle;\n",
              "    }\n",
              "\n",
              "    .dataframe tbody tr th {\n",
              "        vertical-align: top;\n",
              "    }\n",
              "\n",
              "    .dataframe thead th {\n",
              "        text-align: right;\n",
              "    }\n",
              "</style>\n",
              "<table border=\"1\" class=\"dataframe\">\n",
              "  <thead>\n",
              "    <tr style=\"text-align: right;\">\n",
              "      <th></th>\n",
              "      <th>Q</th>\n",
              "      <th>Drop Accuracy</th>\n",
              "      <th>Drop Accuracy Std</th>\n",
              "    </tr>\n",
              "  </thead>\n",
              "  <tbody>\n",
              "    <tr>\n",
              "      <th>112</th>\n",
              "      <td>q113</td>\n",
              "      <td>0.997101</td>\n",
              "      <td>0.000000</td>\n",
              "    </tr>\n",
              "    <tr>\n",
              "      <th>113</th>\n",
              "      <td>q114</td>\n",
              "      <td>0.996033</td>\n",
              "      <td>0.023256</td>\n",
              "    </tr>\n",
              "    <tr>\n",
              "      <th>98</th>\n",
              "      <td>q99</td>\n",
              "      <td>0.994660</td>\n",
              "      <td>0.053156</td>\n",
              "    </tr>\n",
              "    <tr>\n",
              "      <th>74</th>\n",
              "      <td>q75</td>\n",
              "      <td>0.993897</td>\n",
              "      <td>0.069767</td>\n",
              "    </tr>\n",
              "    <tr>\n",
              "      <th>99</th>\n",
              "      <td>q100</td>\n",
              "      <td>0.993287</td>\n",
              "      <td>0.083056</td>\n",
              "    </tr>\n",
              "    <tr>\n",
              "      <th>97</th>\n",
              "      <td>q98</td>\n",
              "      <td>0.993287</td>\n",
              "      <td>0.083056</td>\n",
              "    </tr>\n",
              "    <tr>\n",
              "      <th>95</th>\n",
              "      <td>q96</td>\n",
              "      <td>0.993287</td>\n",
              "      <td>0.083056</td>\n",
              "    </tr>\n",
              "    <tr>\n",
              "      <th>107</th>\n",
              "      <td>q108</td>\n",
              "      <td>0.993134</td>\n",
              "      <td>0.086379</td>\n",
              "    </tr>\n",
              "    <tr>\n",
              "      <th>63</th>\n",
              "      <td>q64</td>\n",
              "      <td>0.992829</td>\n",
              "      <td>0.093023</td>\n",
              "    </tr>\n",
              "    <tr>\n",
              "      <th>126</th>\n",
              "      <td>q127</td>\n",
              "      <td>0.992676</td>\n",
              "      <td>0.096346</td>\n",
              "    </tr>\n",
              "  </tbody>\n",
              "</table>\n",
              "</div>\n",
              "      <button class=\"colab-df-convert\" onclick=\"convertToInteractive('df-0ce4f276-80ec-4cb6-895c-0fd79dfd9474')\"\n",
              "              title=\"Convert this dataframe to an interactive table.\"\n",
              "              style=\"display:none;\">\n",
              "        \n",
              "  <svg xmlns=\"http://www.w3.org/2000/svg\" height=\"24px\"viewBox=\"0 0 24 24\"\n",
              "       width=\"24px\">\n",
              "    <path d=\"M0 0h24v24H0V0z\" fill=\"none\"/>\n",
              "    <path d=\"M18.56 5.44l.94 2.06.94-2.06 2.06-.94-2.06-.94-.94-2.06-.94 2.06-2.06.94zm-11 1L8.5 8.5l.94-2.06 2.06-.94-2.06-.94L8.5 2.5l-.94 2.06-2.06.94zm10 10l.94 2.06.94-2.06 2.06-.94-2.06-.94-.94-2.06-.94 2.06-2.06.94z\"/><path d=\"M17.41 7.96l-1.37-1.37c-.4-.4-.92-.59-1.43-.59-.52 0-1.04.2-1.43.59L10.3 9.45l-7.72 7.72c-.78.78-.78 2.05 0 2.83L4 21.41c.39.39.9.59 1.41.59.51 0 1.02-.2 1.41-.59l7.78-7.78 2.81-2.81c.8-.78.8-2.07 0-2.86zM5.41 20L4 18.59l7.72-7.72 1.47 1.35L5.41 20z\"/>\n",
              "  </svg>\n",
              "      </button>\n",
              "      \n",
              "  <style>\n",
              "    .colab-df-container {\n",
              "      display:flex;\n",
              "      flex-wrap:wrap;\n",
              "      gap: 12px;\n",
              "    }\n",
              "\n",
              "    .colab-df-convert {\n",
              "      background-color: #E8F0FE;\n",
              "      border: none;\n",
              "      border-radius: 50%;\n",
              "      cursor: pointer;\n",
              "      display: none;\n",
              "      fill: #1967D2;\n",
              "      height: 32px;\n",
              "      padding: 0 0 0 0;\n",
              "      width: 32px;\n",
              "    }\n",
              "\n",
              "    .colab-df-convert:hover {\n",
              "      background-color: #E2EBFA;\n",
              "      box-shadow: 0px 1px 2px rgba(60, 64, 67, 0.3), 0px 1px 3px 1px rgba(60, 64, 67, 0.15);\n",
              "      fill: #174EA6;\n",
              "    }\n",
              "\n",
              "    [theme=dark] .colab-df-convert {\n",
              "      background-color: #3B4455;\n",
              "      fill: #D2E3FC;\n",
              "    }\n",
              "\n",
              "    [theme=dark] .colab-df-convert:hover {\n",
              "      background-color: #434B5C;\n",
              "      box-shadow: 0px 1px 3px 1px rgba(0, 0, 0, 0.15);\n",
              "      filter: drop-shadow(0px 1px 2px rgba(0, 0, 0, 0.3));\n",
              "      fill: #FFFFFF;\n",
              "    }\n",
              "  </style>\n",
              "\n",
              "      <script>\n",
              "        const buttonEl =\n",
              "          document.querySelector('#df-0ce4f276-80ec-4cb6-895c-0fd79dfd9474 button.colab-df-convert');\n",
              "        buttonEl.style.display =\n",
              "          google.colab.kernel.accessAllowed ? 'block' : 'none';\n",
              "\n",
              "        async function convertToInteractive(key) {\n",
              "          const element = document.querySelector('#df-0ce4f276-80ec-4cb6-895c-0fd79dfd9474');\n",
              "          const dataTable =\n",
              "            await google.colab.kernel.invokeFunction('convertToInteractive',\n",
              "                                                     [key], {});\n",
              "          if (!dataTable) return;\n",
              "\n",
              "          const docLinkHtml = 'Like what you see? Visit the ' +\n",
              "            '<a target=\"_blank\" href=https://colab.research.google.com/notebooks/data_table.ipynb>data table notebook</a>'\n",
              "            + ' to learn more about interactive tables.';\n",
              "          element.innerHTML = '';\n",
              "          dataTable['output_type'] = 'display_data';\n",
              "          await google.colab.output.renderOutput(dataTable, element);\n",
              "          const docLink = document.createElement('div');\n",
              "          docLink.innerHTML = docLinkHtml;\n",
              "          element.appendChild(docLink);\n",
              "        }\n",
              "      </script>\n",
              "    </div>\n",
              "  </div>\n",
              "  "
            ]
          },
          "metadata": {},
          "execution_count": 27
        }
      ],
      "source": [
        "da_df = results_df[['Q','Drop Accuracy','Drop Accuracy Std']].sort_values(by=\"Drop Accuracy Std\").head(N)\n",
        "da_df"
      ]
    },
    {
      "cell_type": "code",
      "execution_count": null,
      "metadata": {
        "colab": {
          "base_uri": "https://localhost:8080/",
          "height": 112
        },
        "id": "dBk1YbPg6KMM",
        "outputId": "a99ce7e8-d674-40f5-c52e-00c5ab8ab681"
      },
      "outputs": [
        {
          "output_type": "execute_result",
          "data": {
            "text/plain": [
              "                   Avg Abs Coeff Std  Drop Accuracy Std\n",
              "Avg Abs Coeff Std           1.000000           0.938607\n",
              "Drop Accuracy Std           0.938607           1.000000"
            ],
            "text/html": [
              "\n",
              "  <div id=\"df-e864ebd8-60c0-457e-8270-51a9ef07f220\">\n",
              "    <div class=\"colab-df-container\">\n",
              "      <div>\n",
              "<style scoped>\n",
              "    .dataframe tbody tr th:only-of-type {\n",
              "        vertical-align: middle;\n",
              "    }\n",
              "\n",
              "    .dataframe tbody tr th {\n",
              "        vertical-align: top;\n",
              "    }\n",
              "\n",
              "    .dataframe thead th {\n",
              "        text-align: right;\n",
              "    }\n",
              "</style>\n",
              "<table border=\"1\" class=\"dataframe\">\n",
              "  <thead>\n",
              "    <tr style=\"text-align: right;\">\n",
              "      <th></th>\n",
              "      <th>Avg Abs Coeff Std</th>\n",
              "      <th>Drop Accuracy Std</th>\n",
              "    </tr>\n",
              "  </thead>\n",
              "  <tbody>\n",
              "    <tr>\n",
              "      <th>Avg Abs Coeff Std</th>\n",
              "      <td>1.000000</td>\n",
              "      <td>0.938607</td>\n",
              "    </tr>\n",
              "    <tr>\n",
              "      <th>Drop Accuracy Std</th>\n",
              "      <td>0.938607</td>\n",
              "      <td>1.000000</td>\n",
              "    </tr>\n",
              "  </tbody>\n",
              "</table>\n",
              "</div>\n",
              "      <button class=\"colab-df-convert\" onclick=\"convertToInteractive('df-e864ebd8-60c0-457e-8270-51a9ef07f220')\"\n",
              "              title=\"Convert this dataframe to an interactive table.\"\n",
              "              style=\"display:none;\">\n",
              "        \n",
              "  <svg xmlns=\"http://www.w3.org/2000/svg\" height=\"24px\"viewBox=\"0 0 24 24\"\n",
              "       width=\"24px\">\n",
              "    <path d=\"M0 0h24v24H0V0z\" fill=\"none\"/>\n",
              "    <path d=\"M18.56 5.44l.94 2.06.94-2.06 2.06-.94-2.06-.94-.94-2.06-.94 2.06-2.06.94zm-11 1L8.5 8.5l.94-2.06 2.06-.94-2.06-.94L8.5 2.5l-.94 2.06-2.06.94zm10 10l.94 2.06.94-2.06 2.06-.94-2.06-.94-.94-2.06-.94 2.06-2.06.94z\"/><path d=\"M17.41 7.96l-1.37-1.37c-.4-.4-.92-.59-1.43-.59-.52 0-1.04.2-1.43.59L10.3 9.45l-7.72 7.72c-.78.78-.78 2.05 0 2.83L4 21.41c.39.39.9.59 1.41.59.51 0 1.02-.2 1.41-.59l7.78-7.78 2.81-2.81c.8-.78.8-2.07 0-2.86zM5.41 20L4 18.59l7.72-7.72 1.47 1.35L5.41 20z\"/>\n",
              "  </svg>\n",
              "      </button>\n",
              "      \n",
              "  <style>\n",
              "    .colab-df-container {\n",
              "      display:flex;\n",
              "      flex-wrap:wrap;\n",
              "      gap: 12px;\n",
              "    }\n",
              "\n",
              "    .colab-df-convert {\n",
              "      background-color: #E8F0FE;\n",
              "      border: none;\n",
              "      border-radius: 50%;\n",
              "      cursor: pointer;\n",
              "      display: none;\n",
              "      fill: #1967D2;\n",
              "      height: 32px;\n",
              "      padding: 0 0 0 0;\n",
              "      width: 32px;\n",
              "    }\n",
              "\n",
              "    .colab-df-convert:hover {\n",
              "      background-color: #E2EBFA;\n",
              "      box-shadow: 0px 1px 2px rgba(60, 64, 67, 0.3), 0px 1px 3px 1px rgba(60, 64, 67, 0.15);\n",
              "      fill: #174EA6;\n",
              "    }\n",
              "\n",
              "    [theme=dark] .colab-df-convert {\n",
              "      background-color: #3B4455;\n",
              "      fill: #D2E3FC;\n",
              "    }\n",
              "\n",
              "    [theme=dark] .colab-df-convert:hover {\n",
              "      background-color: #434B5C;\n",
              "      box-shadow: 0px 1px 3px 1px rgba(0, 0, 0, 0.15);\n",
              "      filter: drop-shadow(0px 1px 2px rgba(0, 0, 0, 0.3));\n",
              "      fill: #FFFFFF;\n",
              "    }\n",
              "  </style>\n",
              "\n",
              "      <script>\n",
              "        const buttonEl =\n",
              "          document.querySelector('#df-e864ebd8-60c0-457e-8270-51a9ef07f220 button.colab-df-convert');\n",
              "        buttonEl.style.display =\n",
              "          google.colab.kernel.accessAllowed ? 'block' : 'none';\n",
              "\n",
              "        async function convertToInteractive(key) {\n",
              "          const element = document.querySelector('#df-e864ebd8-60c0-457e-8270-51a9ef07f220');\n",
              "          const dataTable =\n",
              "            await google.colab.kernel.invokeFunction('convertToInteractive',\n",
              "                                                     [key], {});\n",
              "          if (!dataTable) return;\n",
              "\n",
              "          const docLinkHtml = 'Like what you see? Visit the ' +\n",
              "            '<a target=\"_blank\" href=https://colab.research.google.com/notebooks/data_table.ipynb>data table notebook</a>'\n",
              "            + ' to learn more about interactive tables.';\n",
              "          element.innerHTML = '';\n",
              "          dataTable['output_type'] = 'display_data';\n",
              "          await google.colab.output.renderOutput(dataTable, element);\n",
              "          const docLink = document.createElement('div');\n",
              "          docLink.innerHTML = docLinkHtml;\n",
              "          element.appendChild(docLink);\n",
              "        }\n",
              "      </script>\n",
              "    </div>\n",
              "  </div>\n",
              "  "
            ]
          },
          "metadata": {},
          "execution_count": 28
        }
      ],
      "source": [
        "results_df[['Avg Abs Coeff Std','Drop Accuracy Std']].corr()"
      ]
    },
    {
      "cell_type": "markdown",
      "metadata": {
        "id": "3eL6maOtCmWH"
      },
      "source": [
        "### Test-Train Split"
      ]
    },
    {
      "cell_type": "code",
      "execution_count": null,
      "metadata": {
        "id": "2g7p7sKp0cjf"
      },
      "outputs": [],
      "source": [
        "# train-test split\n",
        "X = df[q_cols]\n",
        "X = X.drop(da_df['Q'],axis=1)\n",
        "y = df[bin_cols]\n",
        "X_train, X_test, y_train, y_test = train_test_split(\n",
        "        X, y, test_size=0.3, random_state=1, stratify=y)"
      ]
    },
    {
      "cell_type": "markdown",
      "metadata": {
        "id": "MO8JVCYSaHjv"
      },
      "source": [
        "### Training"
      ]
    },
    {
      "cell_type": "code",
      "execution_count": null,
      "metadata": {
        "id": "CUJUuY6GaHjz"
      },
      "outputs": [],
      "source": [
        "lrs = train_lrs(X_train,y_train)"
      ]
    },
    {
      "cell_type": "markdown",
      "metadata": {
        "id": "_OiG76-TaHj3"
      },
      "source": [
        "### Evaluation"
      ]
    },
    {
      "cell_type": "code",
      "execution_count": null,
      "metadata": {
        "colab": {
          "base_uri": "https://localhost:8080/"
        },
        "id": "gaoih_BraHj6",
        "outputId": "4015148f-e52a-4dbd-b86e-a9b651276555"
      },
      "outputs": [
        {
          "output_type": "execute_result",
          "data": {
            "text/plain": [
              "{'Accuracy': 0.9609398840402807,\n",
              " 'Correct': 6298,\n",
              " 'Incorrect': 256,\n",
              " 'Total': 6554}"
            ]
          },
          "metadata": {},
          "execution_count": 31
        }
      ],
      "source": [
        "# testing accuracy\n",
        "eval(predict(X_test,lrs),y_test)"
      ]
    },
    {
      "cell_type": "code",
      "source": [
        "# seeing where mistakes are made\n",
        "comp_df = pd.concat([pd.Series(np.apply_along_axis(to_type,1,predict(X_test,lrs))),\n",
        "                     df.iloc[X_test.index][scale_cols+['psychotype']].reset_index(drop=True)],axis=1)\n",
        "comp_df[comp_df[0] != comp_df['psychotype']][scale_cols+['psychotype']].head()"
      ],
      "metadata": {
        "colab": {
          "base_uri": "https://localhost:8080/",
          "height": 250
        },
        "id": "5KU19HXWRjuP",
        "outputId": "acc811a7-e476-4c63-d3f0-0f32cd988b9c"
      },
      "execution_count": null,
      "outputs": [
        {
          "output_type": "execute_result",
          "data": {
            "text/plain": [
              "    scale_e  scale_i  scale_s  scale_n  scale_t  scale_f  scale_j  scale_p  \\\n",
              "20       19       15       31        6       16       20       16       18   \n",
              "47       17       20       14       17       17       18       15       19   \n",
              "49       25       13       19       18       16       12       24       16   \n",
              "84       26       14       14       24       11       25       14       17   \n",
              "89       23       14        6       23       24        9       15       16   \n",
              "\n",
              "   psychotype  \n",
              "20       ESFP  \n",
              "47       INFP  \n",
              "49       ESTJ  \n",
              "84       ENFP  \n",
              "89       ENTP  "
            ],
            "text/html": [
              "\n",
              "  <div id=\"df-e2b50227-3710-4218-9c0b-91d390d07ca4\">\n",
              "    <div class=\"colab-df-container\">\n",
              "      <div>\n",
              "<style scoped>\n",
              "    .dataframe tbody tr th:only-of-type {\n",
              "        vertical-align: middle;\n",
              "    }\n",
              "\n",
              "    .dataframe tbody tr th {\n",
              "        vertical-align: top;\n",
              "    }\n",
              "\n",
              "    .dataframe thead th {\n",
              "        text-align: right;\n",
              "    }\n",
              "</style>\n",
              "<table border=\"1\" class=\"dataframe\">\n",
              "  <thead>\n",
              "    <tr style=\"text-align: right;\">\n",
              "      <th></th>\n",
              "      <th>scale_e</th>\n",
              "      <th>scale_i</th>\n",
              "      <th>scale_s</th>\n",
              "      <th>scale_n</th>\n",
              "      <th>scale_t</th>\n",
              "      <th>scale_f</th>\n",
              "      <th>scale_j</th>\n",
              "      <th>scale_p</th>\n",
              "      <th>psychotype</th>\n",
              "    </tr>\n",
              "  </thead>\n",
              "  <tbody>\n",
              "    <tr>\n",
              "      <th>20</th>\n",
              "      <td>19</td>\n",
              "      <td>15</td>\n",
              "      <td>31</td>\n",
              "      <td>6</td>\n",
              "      <td>16</td>\n",
              "      <td>20</td>\n",
              "      <td>16</td>\n",
              "      <td>18</td>\n",
              "      <td>ESFP</td>\n",
              "    </tr>\n",
              "    <tr>\n",
              "      <th>47</th>\n",
              "      <td>17</td>\n",
              "      <td>20</td>\n",
              "      <td>14</td>\n",
              "      <td>17</td>\n",
              "      <td>17</td>\n",
              "      <td>18</td>\n",
              "      <td>15</td>\n",
              "      <td>19</td>\n",
              "      <td>INFP</td>\n",
              "    </tr>\n",
              "    <tr>\n",
              "      <th>49</th>\n",
              "      <td>25</td>\n",
              "      <td>13</td>\n",
              "      <td>19</td>\n",
              "      <td>18</td>\n",
              "      <td>16</td>\n",
              "      <td>12</td>\n",
              "      <td>24</td>\n",
              "      <td>16</td>\n",
              "      <td>ESTJ</td>\n",
              "    </tr>\n",
              "    <tr>\n",
              "      <th>84</th>\n",
              "      <td>26</td>\n",
              "      <td>14</td>\n",
              "      <td>14</td>\n",
              "      <td>24</td>\n",
              "      <td>11</td>\n",
              "      <td>25</td>\n",
              "      <td>14</td>\n",
              "      <td>17</td>\n",
              "      <td>ENFP</td>\n",
              "    </tr>\n",
              "    <tr>\n",
              "      <th>89</th>\n",
              "      <td>23</td>\n",
              "      <td>14</td>\n",
              "      <td>6</td>\n",
              "      <td>23</td>\n",
              "      <td>24</td>\n",
              "      <td>9</td>\n",
              "      <td>15</td>\n",
              "      <td>16</td>\n",
              "      <td>ENTP</td>\n",
              "    </tr>\n",
              "  </tbody>\n",
              "</table>\n",
              "</div>\n",
              "      <button class=\"colab-df-convert\" onclick=\"convertToInteractive('df-e2b50227-3710-4218-9c0b-91d390d07ca4')\"\n",
              "              title=\"Convert this dataframe to an interactive table.\"\n",
              "              style=\"display:none;\">\n",
              "        \n",
              "  <svg xmlns=\"http://www.w3.org/2000/svg\" height=\"24px\"viewBox=\"0 0 24 24\"\n",
              "       width=\"24px\">\n",
              "    <path d=\"M0 0h24v24H0V0z\" fill=\"none\"/>\n",
              "    <path d=\"M18.56 5.44l.94 2.06.94-2.06 2.06-.94-2.06-.94-.94-2.06-.94 2.06-2.06.94zm-11 1L8.5 8.5l.94-2.06 2.06-.94-2.06-.94L8.5 2.5l-.94 2.06-2.06.94zm10 10l.94 2.06.94-2.06 2.06-.94-2.06-.94-.94-2.06-.94 2.06-2.06.94z\"/><path d=\"M17.41 7.96l-1.37-1.37c-.4-.4-.92-.59-1.43-.59-.52 0-1.04.2-1.43.59L10.3 9.45l-7.72 7.72c-.78.78-.78 2.05 0 2.83L4 21.41c.39.39.9.59 1.41.59.51 0 1.02-.2 1.41-.59l7.78-7.78 2.81-2.81c.8-.78.8-2.07 0-2.86zM5.41 20L4 18.59l7.72-7.72 1.47 1.35L5.41 20z\"/>\n",
              "  </svg>\n",
              "      </button>\n",
              "      \n",
              "  <style>\n",
              "    .colab-df-container {\n",
              "      display:flex;\n",
              "      flex-wrap:wrap;\n",
              "      gap: 12px;\n",
              "    }\n",
              "\n",
              "    .colab-df-convert {\n",
              "      background-color: #E8F0FE;\n",
              "      border: none;\n",
              "      border-radius: 50%;\n",
              "      cursor: pointer;\n",
              "      display: none;\n",
              "      fill: #1967D2;\n",
              "      height: 32px;\n",
              "      padding: 0 0 0 0;\n",
              "      width: 32px;\n",
              "    }\n",
              "\n",
              "    .colab-df-convert:hover {\n",
              "      background-color: #E2EBFA;\n",
              "      box-shadow: 0px 1px 2px rgba(60, 64, 67, 0.3), 0px 1px 3px 1px rgba(60, 64, 67, 0.15);\n",
              "      fill: #174EA6;\n",
              "    }\n",
              "\n",
              "    [theme=dark] .colab-df-convert {\n",
              "      background-color: #3B4455;\n",
              "      fill: #D2E3FC;\n",
              "    }\n",
              "\n",
              "    [theme=dark] .colab-df-convert:hover {\n",
              "      background-color: #434B5C;\n",
              "      box-shadow: 0px 1px 3px 1px rgba(0, 0, 0, 0.15);\n",
              "      filter: drop-shadow(0px 1px 2px rgba(0, 0, 0, 0.3));\n",
              "      fill: #FFFFFF;\n",
              "    }\n",
              "  </style>\n",
              "\n",
              "      <script>\n",
              "        const buttonEl =\n",
              "          document.querySelector('#df-e2b50227-3710-4218-9c0b-91d390d07ca4 button.colab-df-convert');\n",
              "        buttonEl.style.display =\n",
              "          google.colab.kernel.accessAllowed ? 'block' : 'none';\n",
              "\n",
              "        async function convertToInteractive(key) {\n",
              "          const element = document.querySelector('#df-e2b50227-3710-4218-9c0b-91d390d07ca4');\n",
              "          const dataTable =\n",
              "            await google.colab.kernel.invokeFunction('convertToInteractive',\n",
              "                                                     [key], {});\n",
              "          if (!dataTable) return;\n",
              "\n",
              "          const docLinkHtml = 'Like what you see? Visit the ' +\n",
              "            '<a target=\"_blank\" href=https://colab.research.google.com/notebooks/data_table.ipynb>data table notebook</a>'\n",
              "            + ' to learn more about interactive tables.';\n",
              "          element.innerHTML = '';\n",
              "          dataTable['output_type'] = 'display_data';\n",
              "          await google.colab.output.renderOutput(dataTable, element);\n",
              "          const docLink = document.createElement('div');\n",
              "          docLink.innerHTML = docLinkHtml;\n",
              "          element.appendChild(docLink);\n",
              "        }\n",
              "      </script>\n",
              "    </div>\n",
              "  </div>\n",
              "  "
            ]
          },
          "metadata": {},
          "execution_count": 32
        }
      ]
    },
    {
      "cell_type": "markdown",
      "metadata": {
        "id": "SDyA9eYHaX8K"
      },
      "source": [
        "## Using Combination of Weights"
      ]
    },
    {
      "cell_type": "code",
      "execution_count": null,
      "metadata": {
        "id": "LSGIMYFIalga"
      },
      "outputs": [],
      "source": [
        "results_df['Weight'] = results_df[['Avg Abs Coeff Std','Drop Accuracy Std']].mean(axis=1)"
      ]
    },
    {
      "cell_type": "code",
      "execution_count": null,
      "metadata": {
        "colab": {
          "base_uri": "https://localhost:8080/",
          "height": 424
        },
        "id": "P4IWxEBxcjyO",
        "outputId": "9ef40e34-8c79-42a2-dd72-4fce31d80963"
      },
      "outputs": [
        {
          "output_type": "execute_result",
          "data": {
            "text/plain": [
              "        Q  Avg Abs Coeff  Avg Abs Coeff Std  Drop Accuracy  Drop Accuracy Std  \\\n",
              "112  q113       1.731306           0.023910       0.997101           0.000000   \n",
              "113  q114       1.822424           0.040499       0.996033           0.023256   \n",
              "98    q99       1.715312           0.020997       0.994660           0.053156   \n",
              "95    q96       1.638906           0.007086       0.993287           0.083056   \n",
              "74    q75       1.725781           0.022904       0.993897           0.069767   \n",
              "107  q108       1.636557           0.006659       0.993134           0.086379   \n",
              "99   q100       1.660288           0.010979       0.993287           0.083056   \n",
              "63    q64       1.678810           0.014352       0.992829           0.093023   \n",
              "126  q127       1.661152           0.011137       0.992676           0.096346   \n",
              "139  q140       1.667576           0.012306       0.992524           0.099668   \n",
              "\n",
              "       Weight  \n",
              "112  0.011955  \n",
              "113  0.031877  \n",
              "98   0.037077  \n",
              "95   0.045071  \n",
              "74   0.046336  \n",
              "107  0.046519  \n",
              "99   0.047018  \n",
              "63   0.053687  \n",
              "126  0.053741  \n",
              "139  0.055987  "
            ],
            "text/html": [
              "\n",
              "  <div id=\"df-8bbf10eb-57b5-441b-ad5a-3bed3b0d2dae\">\n",
              "    <div class=\"colab-df-container\">\n",
              "      <div>\n",
              "<style scoped>\n",
              "    .dataframe tbody tr th:only-of-type {\n",
              "        vertical-align: middle;\n",
              "    }\n",
              "\n",
              "    .dataframe tbody tr th {\n",
              "        vertical-align: top;\n",
              "    }\n",
              "\n",
              "    .dataframe thead th {\n",
              "        text-align: right;\n",
              "    }\n",
              "</style>\n",
              "<table border=\"1\" class=\"dataframe\">\n",
              "  <thead>\n",
              "    <tr style=\"text-align: right;\">\n",
              "      <th></th>\n",
              "      <th>Q</th>\n",
              "      <th>Avg Abs Coeff</th>\n",
              "      <th>Avg Abs Coeff Std</th>\n",
              "      <th>Drop Accuracy</th>\n",
              "      <th>Drop Accuracy Std</th>\n",
              "      <th>Weight</th>\n",
              "    </tr>\n",
              "  </thead>\n",
              "  <tbody>\n",
              "    <tr>\n",
              "      <th>112</th>\n",
              "      <td>q113</td>\n",
              "      <td>1.731306</td>\n",
              "      <td>0.023910</td>\n",
              "      <td>0.997101</td>\n",
              "      <td>0.000000</td>\n",
              "      <td>0.011955</td>\n",
              "    </tr>\n",
              "    <tr>\n",
              "      <th>113</th>\n",
              "      <td>q114</td>\n",
              "      <td>1.822424</td>\n",
              "      <td>0.040499</td>\n",
              "      <td>0.996033</td>\n",
              "      <td>0.023256</td>\n",
              "      <td>0.031877</td>\n",
              "    </tr>\n",
              "    <tr>\n",
              "      <th>98</th>\n",
              "      <td>q99</td>\n",
              "      <td>1.715312</td>\n",
              "      <td>0.020997</td>\n",
              "      <td>0.994660</td>\n",
              "      <td>0.053156</td>\n",
              "      <td>0.037077</td>\n",
              "    </tr>\n",
              "    <tr>\n",
              "      <th>95</th>\n",
              "      <td>q96</td>\n",
              "      <td>1.638906</td>\n",
              "      <td>0.007086</td>\n",
              "      <td>0.993287</td>\n",
              "      <td>0.083056</td>\n",
              "      <td>0.045071</td>\n",
              "    </tr>\n",
              "    <tr>\n",
              "      <th>74</th>\n",
              "      <td>q75</td>\n",
              "      <td>1.725781</td>\n",
              "      <td>0.022904</td>\n",
              "      <td>0.993897</td>\n",
              "      <td>0.069767</td>\n",
              "      <td>0.046336</td>\n",
              "    </tr>\n",
              "    <tr>\n",
              "      <th>107</th>\n",
              "      <td>q108</td>\n",
              "      <td>1.636557</td>\n",
              "      <td>0.006659</td>\n",
              "      <td>0.993134</td>\n",
              "      <td>0.086379</td>\n",
              "      <td>0.046519</td>\n",
              "    </tr>\n",
              "    <tr>\n",
              "      <th>99</th>\n",
              "      <td>q100</td>\n",
              "      <td>1.660288</td>\n",
              "      <td>0.010979</td>\n",
              "      <td>0.993287</td>\n",
              "      <td>0.083056</td>\n",
              "      <td>0.047018</td>\n",
              "    </tr>\n",
              "    <tr>\n",
              "      <th>63</th>\n",
              "      <td>q64</td>\n",
              "      <td>1.678810</td>\n",
              "      <td>0.014352</td>\n",
              "      <td>0.992829</td>\n",
              "      <td>0.093023</td>\n",
              "      <td>0.053687</td>\n",
              "    </tr>\n",
              "    <tr>\n",
              "      <th>126</th>\n",
              "      <td>q127</td>\n",
              "      <td>1.661152</td>\n",
              "      <td>0.011137</td>\n",
              "      <td>0.992676</td>\n",
              "      <td>0.096346</td>\n",
              "      <td>0.053741</td>\n",
              "    </tr>\n",
              "    <tr>\n",
              "      <th>139</th>\n",
              "      <td>q140</td>\n",
              "      <td>1.667576</td>\n",
              "      <td>0.012306</td>\n",
              "      <td>0.992524</td>\n",
              "      <td>0.099668</td>\n",
              "      <td>0.055987</td>\n",
              "    </tr>\n",
              "  </tbody>\n",
              "</table>\n",
              "</div>\n",
              "      <button class=\"colab-df-convert\" onclick=\"convertToInteractive('df-8bbf10eb-57b5-441b-ad5a-3bed3b0d2dae')\"\n",
              "              title=\"Convert this dataframe to an interactive table.\"\n",
              "              style=\"display:none;\">\n",
              "        \n",
              "  <svg xmlns=\"http://www.w3.org/2000/svg\" height=\"24px\"viewBox=\"0 0 24 24\"\n",
              "       width=\"24px\">\n",
              "    <path d=\"M0 0h24v24H0V0z\" fill=\"none\"/>\n",
              "    <path d=\"M18.56 5.44l.94 2.06.94-2.06 2.06-.94-2.06-.94-.94-2.06-.94 2.06-2.06.94zm-11 1L8.5 8.5l.94-2.06 2.06-.94-2.06-.94L8.5 2.5l-.94 2.06-2.06.94zm10 10l.94 2.06.94-2.06 2.06-.94-2.06-.94-.94-2.06-.94 2.06-2.06.94z\"/><path d=\"M17.41 7.96l-1.37-1.37c-.4-.4-.92-.59-1.43-.59-.52 0-1.04.2-1.43.59L10.3 9.45l-7.72 7.72c-.78.78-.78 2.05 0 2.83L4 21.41c.39.39.9.59 1.41.59.51 0 1.02-.2 1.41-.59l7.78-7.78 2.81-2.81c.8-.78.8-2.07 0-2.86zM5.41 20L4 18.59l7.72-7.72 1.47 1.35L5.41 20z\"/>\n",
              "  </svg>\n",
              "      </button>\n",
              "      \n",
              "  <style>\n",
              "    .colab-df-container {\n",
              "      display:flex;\n",
              "      flex-wrap:wrap;\n",
              "      gap: 12px;\n",
              "    }\n",
              "\n",
              "    .colab-df-convert {\n",
              "      background-color: #E8F0FE;\n",
              "      border: none;\n",
              "      border-radius: 50%;\n",
              "      cursor: pointer;\n",
              "      display: none;\n",
              "      fill: #1967D2;\n",
              "      height: 32px;\n",
              "      padding: 0 0 0 0;\n",
              "      width: 32px;\n",
              "    }\n",
              "\n",
              "    .colab-df-convert:hover {\n",
              "      background-color: #E2EBFA;\n",
              "      box-shadow: 0px 1px 2px rgba(60, 64, 67, 0.3), 0px 1px 3px 1px rgba(60, 64, 67, 0.15);\n",
              "      fill: #174EA6;\n",
              "    }\n",
              "\n",
              "    [theme=dark] .colab-df-convert {\n",
              "      background-color: #3B4455;\n",
              "      fill: #D2E3FC;\n",
              "    }\n",
              "\n",
              "    [theme=dark] .colab-df-convert:hover {\n",
              "      background-color: #434B5C;\n",
              "      box-shadow: 0px 1px 3px 1px rgba(0, 0, 0, 0.15);\n",
              "      filter: drop-shadow(0px 1px 2px rgba(0, 0, 0, 0.3));\n",
              "      fill: #FFFFFF;\n",
              "    }\n",
              "  </style>\n",
              "\n",
              "      <script>\n",
              "        const buttonEl =\n",
              "          document.querySelector('#df-8bbf10eb-57b5-441b-ad5a-3bed3b0d2dae button.colab-df-convert');\n",
              "        buttonEl.style.display =\n",
              "          google.colab.kernel.accessAllowed ? 'block' : 'none';\n",
              "\n",
              "        async function convertToInteractive(key) {\n",
              "          const element = document.querySelector('#df-8bbf10eb-57b5-441b-ad5a-3bed3b0d2dae');\n",
              "          const dataTable =\n",
              "            await google.colab.kernel.invokeFunction('convertToInteractive',\n",
              "                                                     [key], {});\n",
              "          if (!dataTable) return;\n",
              "\n",
              "          const docLinkHtml = 'Like what you see? Visit the ' +\n",
              "            '<a target=\"_blank\" href=https://colab.research.google.com/notebooks/data_table.ipynb>data table notebook</a>'\n",
              "            + ' to learn more about interactive tables.';\n",
              "          element.innerHTML = '';\n",
              "          dataTable['output_type'] = 'display_data';\n",
              "          await google.colab.output.renderOutput(dataTable, element);\n",
              "          const docLink = document.createElement('div');\n",
              "          docLink.innerHTML = docLinkHtml;\n",
              "          element.appendChild(docLink);\n",
              "        }\n",
              "      </script>\n",
              "    </div>\n",
              "  </div>\n",
              "  "
            ]
          },
          "metadata": {},
          "execution_count": 34
        }
      ],
      "source": [
        "weight_df = results_df.sort_values(by=\"Weight\").head(N)\n",
        "weight_df"
      ]
    },
    {
      "cell_type": "code",
      "source": [
        "weight_df['Q'].values.tolist()"
      ],
      "metadata": {
        "colab": {
          "base_uri": "https://localhost:8080/"
        },
        "id": "djtDdiYHZwQS",
        "outputId": "101edb49-6de1-4480-a294-ccae2059bcd5"
      },
      "execution_count": null,
      "outputs": [
        {
          "output_type": "execute_result",
          "data": {
            "text/plain": [
              "['q113', 'q114', 'q99', 'q96', 'q75', 'q108', 'q100', 'q64', 'q127', 'q140']"
            ]
          },
          "metadata": {},
          "execution_count": 35
        }
      ]
    },
    {
      "cell_type": "markdown",
      "metadata": {
        "id": "1iAgpM_kc2pL"
      },
      "source": [
        "### Test-Train Split"
      ]
    },
    {
      "cell_type": "code",
      "execution_count": null,
      "metadata": {
        "id": "pLxdTPuNc2pP"
      },
      "outputs": [],
      "source": [
        "# train-test split\n",
        "X = df[q_cols]\n",
        "X = X.drop(weight_df['Q'],axis=1)\n",
        "y = df[bin_cols]\n",
        "X_train, X_test, y_train, y_test = train_test_split(\n",
        "        X, y, test_size=0.3, random_state=1, stratify=y)"
      ]
    },
    {
      "cell_type": "markdown",
      "metadata": {
        "id": "OsOF4KKFc2pS"
      },
      "source": [
        "### Training"
      ]
    },
    {
      "cell_type": "code",
      "execution_count": null,
      "metadata": {
        "id": "tfbYXQw3c2pU"
      },
      "outputs": [],
      "source": [
        "lrs = train_lrs(X_train,y_train)"
      ]
    },
    {
      "cell_type": "markdown",
      "metadata": {
        "id": "JUKAT9DQc2pW"
      },
      "source": [
        "### Evaluation"
      ]
    },
    {
      "cell_type": "code",
      "execution_count": null,
      "metadata": {
        "colab": {
          "base_uri": "https://localhost:8080/"
        },
        "id": "VBHQsgPNc2pW",
        "outputId": "7d42bbde-8535-45f8-bc49-5f24164dab09"
      },
      "outputs": [
        {
          "output_type": "execute_result",
          "data": {
            "text/plain": [
              "{'Accuracy': 0.9629234055538602,\n",
              " 'Correct': 6311,\n",
              " 'Incorrect': 243,\n",
              " 'Total': 6554}"
            ]
          },
          "metadata": {},
          "execution_count": 38
        }
      ],
      "source": [
        "# testing accuracy\n",
        "eval(predict(X_test,lrs),y_test)"
      ]
    },
    {
      "cell_type": "code",
      "source": [
        "# seeing where mistakes are made\n",
        "comp_df = pd.concat([pd.Series(np.apply_along_axis(to_type,1,predict(X_test,lrs))),\n",
        "                     df.iloc[X_test.index][scale_cols+['psychotype']].reset_index(drop=True)],axis=1)\n",
        "comp_df[comp_df[0] != comp_df['psychotype']][scale_cols+['psychotype']].head()"
      ],
      "metadata": {
        "colab": {
          "base_uri": "https://localhost:8080/",
          "height": 250
        },
        "id": "qvZ4bfOHTMXT",
        "outputId": "ae1d54ff-c735-481b-ebda-40af6a980502"
      },
      "execution_count": null,
      "outputs": [
        {
          "output_type": "execute_result",
          "data": {
            "text/plain": [
              "     scale_e  scale_i  scale_s  scale_n  scale_t  scale_f  scale_j  scale_p  \\\n",
              "20        19       15       31        6       16       20       16       18   \n",
              "47        17       20       14       17       17       18       15       19   \n",
              "89        23       14        6       23       24        9       15       16   \n",
              "138       16       21       16       15       11       24       16       16   \n",
              "185       16       16       17       24       16       12       22       14   \n",
              "\n",
              "    psychotype  \n",
              "20        ESFP  \n",
              "47        INFP  \n",
              "89        ENTP  \n",
              "138       ISFJ  \n",
              "185       ENTJ  "
            ],
            "text/html": [
              "\n",
              "  <div id=\"df-5ce995cb-3930-413a-83be-6487ecb711d4\">\n",
              "    <div class=\"colab-df-container\">\n",
              "      <div>\n",
              "<style scoped>\n",
              "    .dataframe tbody tr th:only-of-type {\n",
              "        vertical-align: middle;\n",
              "    }\n",
              "\n",
              "    .dataframe tbody tr th {\n",
              "        vertical-align: top;\n",
              "    }\n",
              "\n",
              "    .dataframe thead th {\n",
              "        text-align: right;\n",
              "    }\n",
              "</style>\n",
              "<table border=\"1\" class=\"dataframe\">\n",
              "  <thead>\n",
              "    <tr style=\"text-align: right;\">\n",
              "      <th></th>\n",
              "      <th>scale_e</th>\n",
              "      <th>scale_i</th>\n",
              "      <th>scale_s</th>\n",
              "      <th>scale_n</th>\n",
              "      <th>scale_t</th>\n",
              "      <th>scale_f</th>\n",
              "      <th>scale_j</th>\n",
              "      <th>scale_p</th>\n",
              "      <th>psychotype</th>\n",
              "    </tr>\n",
              "  </thead>\n",
              "  <tbody>\n",
              "    <tr>\n",
              "      <th>20</th>\n",
              "      <td>19</td>\n",
              "      <td>15</td>\n",
              "      <td>31</td>\n",
              "      <td>6</td>\n",
              "      <td>16</td>\n",
              "      <td>20</td>\n",
              "      <td>16</td>\n",
              "      <td>18</td>\n",
              "      <td>ESFP</td>\n",
              "    </tr>\n",
              "    <tr>\n",
              "      <th>47</th>\n",
              "      <td>17</td>\n",
              "      <td>20</td>\n",
              "      <td>14</td>\n",
              "      <td>17</td>\n",
              "      <td>17</td>\n",
              "      <td>18</td>\n",
              "      <td>15</td>\n",
              "      <td>19</td>\n",
              "      <td>INFP</td>\n",
              "    </tr>\n",
              "    <tr>\n",
              "      <th>89</th>\n",
              "      <td>23</td>\n",
              "      <td>14</td>\n",
              "      <td>6</td>\n",
              "      <td>23</td>\n",
              "      <td>24</td>\n",
              "      <td>9</td>\n",
              "      <td>15</td>\n",
              "      <td>16</td>\n",
              "      <td>ENTP</td>\n",
              "    </tr>\n",
              "    <tr>\n",
              "      <th>138</th>\n",
              "      <td>16</td>\n",
              "      <td>21</td>\n",
              "      <td>16</td>\n",
              "      <td>15</td>\n",
              "      <td>11</td>\n",
              "      <td>24</td>\n",
              "      <td>16</td>\n",
              "      <td>16</td>\n",
              "      <td>ISFJ</td>\n",
              "    </tr>\n",
              "    <tr>\n",
              "      <th>185</th>\n",
              "      <td>16</td>\n",
              "      <td>16</td>\n",
              "      <td>17</td>\n",
              "      <td>24</td>\n",
              "      <td>16</td>\n",
              "      <td>12</td>\n",
              "      <td>22</td>\n",
              "      <td>14</td>\n",
              "      <td>ENTJ</td>\n",
              "    </tr>\n",
              "  </tbody>\n",
              "</table>\n",
              "</div>\n",
              "      <button class=\"colab-df-convert\" onclick=\"convertToInteractive('df-5ce995cb-3930-413a-83be-6487ecb711d4')\"\n",
              "              title=\"Convert this dataframe to an interactive table.\"\n",
              "              style=\"display:none;\">\n",
              "        \n",
              "  <svg xmlns=\"http://www.w3.org/2000/svg\" height=\"24px\"viewBox=\"0 0 24 24\"\n",
              "       width=\"24px\">\n",
              "    <path d=\"M0 0h24v24H0V0z\" fill=\"none\"/>\n",
              "    <path d=\"M18.56 5.44l.94 2.06.94-2.06 2.06-.94-2.06-.94-.94-2.06-.94 2.06-2.06.94zm-11 1L8.5 8.5l.94-2.06 2.06-.94-2.06-.94L8.5 2.5l-.94 2.06-2.06.94zm10 10l.94 2.06.94-2.06 2.06-.94-2.06-.94-.94-2.06-.94 2.06-2.06.94z\"/><path d=\"M17.41 7.96l-1.37-1.37c-.4-.4-.92-.59-1.43-.59-.52 0-1.04.2-1.43.59L10.3 9.45l-7.72 7.72c-.78.78-.78 2.05 0 2.83L4 21.41c.39.39.9.59 1.41.59.51 0 1.02-.2 1.41-.59l7.78-7.78 2.81-2.81c.8-.78.8-2.07 0-2.86zM5.41 20L4 18.59l7.72-7.72 1.47 1.35L5.41 20z\"/>\n",
              "  </svg>\n",
              "      </button>\n",
              "      \n",
              "  <style>\n",
              "    .colab-df-container {\n",
              "      display:flex;\n",
              "      flex-wrap:wrap;\n",
              "      gap: 12px;\n",
              "    }\n",
              "\n",
              "    .colab-df-convert {\n",
              "      background-color: #E8F0FE;\n",
              "      border: none;\n",
              "      border-radius: 50%;\n",
              "      cursor: pointer;\n",
              "      display: none;\n",
              "      fill: #1967D2;\n",
              "      height: 32px;\n",
              "      padding: 0 0 0 0;\n",
              "      width: 32px;\n",
              "    }\n",
              "\n",
              "    .colab-df-convert:hover {\n",
              "      background-color: #E2EBFA;\n",
              "      box-shadow: 0px 1px 2px rgba(60, 64, 67, 0.3), 0px 1px 3px 1px rgba(60, 64, 67, 0.15);\n",
              "      fill: #174EA6;\n",
              "    }\n",
              "\n",
              "    [theme=dark] .colab-df-convert {\n",
              "      background-color: #3B4455;\n",
              "      fill: #D2E3FC;\n",
              "    }\n",
              "\n",
              "    [theme=dark] .colab-df-convert:hover {\n",
              "      background-color: #434B5C;\n",
              "      box-shadow: 0px 1px 3px 1px rgba(0, 0, 0, 0.15);\n",
              "      filter: drop-shadow(0px 1px 2px rgba(0, 0, 0, 0.3));\n",
              "      fill: #FFFFFF;\n",
              "    }\n",
              "  </style>\n",
              "\n",
              "      <script>\n",
              "        const buttonEl =\n",
              "          document.querySelector('#df-5ce995cb-3930-413a-83be-6487ecb711d4 button.colab-df-convert');\n",
              "        buttonEl.style.display =\n",
              "          google.colab.kernel.accessAllowed ? 'block' : 'none';\n",
              "\n",
              "        async function convertToInteractive(key) {\n",
              "          const element = document.querySelector('#df-5ce995cb-3930-413a-83be-6487ecb711d4');\n",
              "          const dataTable =\n",
              "            await google.colab.kernel.invokeFunction('convertToInteractive',\n",
              "                                                     [key], {});\n",
              "          if (!dataTable) return;\n",
              "\n",
              "          const docLinkHtml = 'Like what you see? Visit the ' +\n",
              "            '<a target=\"_blank\" href=https://colab.research.google.com/notebooks/data_table.ipynb>data table notebook</a>'\n",
              "            + ' to learn more about interactive tables.';\n",
              "          element.innerHTML = '';\n",
              "          dataTable['output_type'] = 'display_data';\n",
              "          await google.colab.output.renderOutput(dataTable, element);\n",
              "          const docLink = document.createElement('div');\n",
              "          docLink.innerHTML = docLinkHtml;\n",
              "          element.appendChild(docLink);\n",
              "        }\n",
              "      </script>\n",
              "    </div>\n",
              "  </div>\n",
              "  "
            ]
          },
          "metadata": {},
          "execution_count": 39
        }
      ]
    },
    {
      "cell_type": "markdown",
      "metadata": {
        "id": "_Im1yFLSr-Id"
      },
      "source": [
        "## Most/Least Important Questions"
      ]
    },
    {
      "cell_type": "code",
      "execution_count": null,
      "metadata": {
        "colab": {
          "base_uri": "https://localhost:8080/"
        },
        "id": "A5ocChBbr-If",
        "outputId": "a00dc126-d7de-4f06-b147-448384f3fa7a"
      },
      "outputs": [
        {
          "output_type": "stream",
          "name": "stdout",
          "text": [
            "q113. Can you be called a person who wants to constantly master and understand the new?\n",
            " (0) rather yes\n",
            " (1) probably not\n",
            "q114. In a dispute, you:\n",
            " (0) argue your position\n",
            " (1) quickly jump to conclusions by skipping facts\n",
            "q99. You would prefer to work with a manager who:\n",
            " (0) always kind\n",
            " (1) always fair\n",
            "q96. Do you find that monotonous and familiar activities throughout the day:\n",
            " (0) reassure you\n",
            " (1) bore you\n",
            "q75. What word in the “who - what” pair do you like more in meaning?\n",
            " (0) who\n",
            " (1) what\n",
            "q108. You would be pleased to work with a boss who:\n",
            " (0) always accurate, punctual\n",
            " (1) always full of new ideas\n",
            "q100. Your friend is easier to become someone who:\n",
            " (0) shares your standards and point of view\n",
            " (1) is an interesting person\n",
            "q64. What word in the pair “swift - thorough” do you like more in meaning?\n",
            " (0) swift\n",
            " (1) thorough\n",
            "q127. Can you say that you:\n",
            " (0) take emotional problems to heart\n",
            " (1) treat emotional problems as a hindrance in solving problems\n",
            "q140. Preferably you:\n",
            " (0) live in obedience to the current situation\n",
            " (1) build your life according to plan\n"
          ]
        }
      ],
      "source": [
        "# least important questions\n",
        "least_qs = results_df.sort_values(by=\"Weight\").head(N)['Q']\n",
        "print_qs(least_qs)"
      ]
    },
    {
      "cell_type": "code",
      "execution_count": null,
      "metadata": {
        "colab": {
          "base_uri": "https://localhost:8080/"
        },
        "id": "Nr4WhsTCr-Ih",
        "outputId": "9c95ccb9-c149-4657-b5ef-ffa7a4fb1f45"
      },
      "outputs": [
        {
          "output_type": "stream",
          "name": "stdout",
          "text": [
            "q94. A higher praise for a person will be recognition:\n",
            " (0) his foresight, intuition\n",
            " (1) his common sense\n",
            "q34. What word in the pair “theory - practice” do you like more in meaning?\n",
            " (0) theory\n",
            " (1) practice\n",
            "q4. When you decide to go somewhere for one day, you usually:\n",
            " (0) plan what and when you will do\n",
            " (1) just hit the road\n",
            "q31. What word in the pair of “thoughts - feelings” do you like more in meaning?\n",
            " (0) thoughts\n",
            " (1) feelings\n",
            "q2. If you were a teacher, with great pleasure you would lead:\n",
            " (0) practical lessons\n",
            " (1) theoretical studies\n",
            "q11. You usually:\n",
            " (0) value feelings more than logic\n",
            " (1) value logic more than feelings\n",
            "q21. Usually you:\n",
            " (0) can talk freely with almost any person at any time\n",
            " (1) don't always find what to say to a stranger\n",
            "q9. In a large company more often:\n",
            " (0) you introduce people to each other\n",
            " (1) you are introduced to others\n",
            "q1. Usually you:\n",
            " (0) communicative\n",
            " (1) quite restrained and calm\n",
            "q10. You can most likely be called:\n",
            " (0) practical person\n",
            " (1) fictional, romantic\n"
          ]
        }
      ],
      "source": [
        "# most important questions\n",
        "print_qs(results_df.sort_values(by=\"Weight\").tail(N)['Q'])"
      ]
    },
    {
      "cell_type": "markdown",
      "metadata": {
        "id": "a1vQwu84OL2D"
      },
      "source": [
        "# Task 3: Filling Missing Questions with Imputation"
      ]
    },
    {
      "cell_type": "markdown",
      "metadata": {
        "id": "WlsvpyAi1NOw"
      },
      "source": [
        "## Statistical Imputation"
      ]
    },
    {
      "cell_type": "markdown",
      "metadata": {
        "id": "3eY13YQv1TaV"
      },
      "source": [
        "### Test-Train Split"
      ]
    },
    {
      "cell_type": "code",
      "execution_count": null,
      "metadata": {
        "id": "C7-7QhF71TaZ"
      },
      "outputs": [],
      "source": [
        "# train-test split\n",
        "X = df[q_cols]\n",
        "y = df[bin_cols]\n",
        "X_train, X_test, y_train, y_test = train_test_split(\n",
        "        X, y, test_size=0.3, random_state=1, stratify=y)"
      ]
    },
    {
      "cell_type": "markdown",
      "metadata": {
        "id": "5u24SYlpKCwZ"
      },
      "source": [
        "### Statistical Imputation Model"
      ]
    },
    {
      "cell_type": "code",
      "execution_count": null,
      "metadata": {
        "id": "you9c3NYJtTT"
      },
      "outputs": [],
      "source": [
        "# median of each question\n",
        "def stat_imputation(X_train,X_test):\n",
        "  means = X_train.mean()[least_qs].values\n",
        "  X_test[least_qs] = means\n",
        "  return X_test"
      ]
    },
    {
      "cell_type": "code",
      "execution_count": null,
      "metadata": {
        "id": "qGLWJh81KXQQ"
      },
      "outputs": [],
      "source": [
        "X_test = stat_imputation(X_train,X_test)"
      ]
    },
    {
      "cell_type": "markdown",
      "metadata": {
        "id": "Ge66ijmH1Tad"
      },
      "source": [
        "### Evaluation"
      ]
    },
    {
      "cell_type": "code",
      "execution_count": null,
      "metadata": {
        "colab": {
          "base_uri": "https://localhost:8080/"
        },
        "id": "Zas7yPe41Tae",
        "outputId": "c8d6d555-6888-48eb-99cb-882272d6d47e"
      },
      "outputs": [
        {
          "output_type": "execute_result",
          "data": {
            "text/plain": [
              "{'Accuracy': 0.9610924626182484,\n",
              " 'Correct': 6299,\n",
              " 'Incorrect': 255,\n",
              " 'Total': 6554}"
            ]
          },
          "metadata": {},
          "execution_count": 45
        }
      ],
      "source": [
        "# testing accuracy\n",
        "eval(predict(X_test,perf_lrs),y_test)"
      ]
    },
    {
      "cell_type": "markdown",
      "metadata": {
        "id": "z9V8dj7JJy6x"
      },
      "source": [
        "## Autoencoder Imputation"
      ]
    },
    {
      "cell_type": "markdown",
      "metadata": {
        "id": "Ql2ytB1gMTZx"
      },
      "source": [
        "### Test-Train Split"
      ]
    },
    {
      "cell_type": "code",
      "execution_count": null,
      "metadata": {
        "id": "061_vlMmMTZ0"
      },
      "outputs": [],
      "source": [
        "# train-test split\n",
        "X = df[q_cols]\n",
        "y = df[bin_cols]\n",
        "X_train, X_test, y_train, y_test = train_test_split(\n",
        "        X, y, test_size=0.3, random_state=1, stratify=y)"
      ]
    },
    {
      "cell_type": "markdown",
      "metadata": {
        "id": "H7J6ctOiMPdL"
      },
      "source": [
        "### Autoencoder Imputation Model"
      ]
    },
    {
      "cell_type": "code",
      "execution_count": null,
      "metadata": {
        "colab": {
          "base_uri": "https://localhost:8080/"
        },
        "id": "Xeaa0ez97HBZ",
        "outputId": "657f98a0-2491-4498-f5f8-47650b429634"
      },
      "outputs": [
        {
          "output_type": "stream",
          "name": "stdout",
          "text": [
            "Iterations: 366\n",
            "Loss: 0.0883871848472966\n"
          ]
        }
      ],
      "source": [
        "subX = X_train.drop(least_qs,axis=1)\n",
        "\n",
        "mlp_w = MLPRegressor(solver = 'adam',\n",
        "                     alpha=0,\n",
        "                     hidden_layer_sizes=(10,4,10),\n",
        "                     max_iter= 10000,\n",
        "                     random_state=1,\n",
        "                     activation = 'relu',\n",
        "                     tol=1e-20)\n",
        "\n",
        "mlp_w.fit(subX,X_train)\n",
        "\n",
        "print(f'Iterations: {mlp_w.n_iter_}')\n",
        "print(f'Loss: {mlp_w.loss_}')"
      ]
    },
    {
      "cell_type": "code",
      "execution_count": null,
      "metadata": {
        "id": "OJsFcTr27vom"
      },
      "outputs": [],
      "source": [
        "# apply model\n",
        "X_pred = mlp_w.predict(X_test.drop(least_qs,axis=1))\n",
        "X_test[least_qs] = X_pred.T[least_qs.index.tolist()].T"
      ]
    },
    {
      "cell_type": "markdown",
      "metadata": {
        "id": "TIOrp3E2WLxX"
      },
      "source": [
        "### Evaluation"
      ]
    },
    {
      "cell_type": "code",
      "execution_count": null,
      "metadata": {
        "colab": {
          "base_uri": "https://localhost:8080/"
        },
        "id": "Cc8k0dXC8hzT",
        "outputId": "56bdea0e-7a43-425a-90c1-2a4583b14c8c"
      },
      "outputs": [
        {
          "output_type": "execute_result",
          "data": {
            "text/plain": [
              "{'Accuracy': 0.9679584986267928,\n",
              " 'Correct': 6344,\n",
              " 'Incorrect': 210,\n",
              " 'Total': 6554}"
            ]
          },
          "metadata": {},
          "execution_count": 49
        }
      ],
      "source": [
        "# testing accuracy\n",
        "eval(predict(X_test,perf_lrs),y_test)"
      ]
    }
  ],
  "metadata": {
    "colab": {
      "toc_visible": true,
      "provenance": [],
      "mount_file_id": "1ljj9opBxmAAhANoG3KTnNssOlvb02PdT",
      "authorship_tag": "ABX9TyOUZLw/TYZzF6S0/kDZOY8z",
      "include_colab_link": true
    },
    "kernelspec": {
      "display_name": "Python 3",
      "name": "python3"
    },
    "language_info": {
      "name": "python"
    }
  },
  "nbformat": 4,
  "nbformat_minor": 0
}